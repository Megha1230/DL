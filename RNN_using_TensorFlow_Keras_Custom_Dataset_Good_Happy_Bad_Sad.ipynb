{
  "nbformat": 4,
  "nbformat_minor": 0,
  "metadata": {
    "colab": {
      "provenance": [],
      "include_colab_link": true
    },
    "kernelspec": {
      "name": "python3",
      "display_name": "Python 3"
    },
    "language_info": {
      "name": "python"
    }
  },
  "cells": [
    {
      "cell_type": "markdown",
      "metadata": {
        "id": "view-in-github",
        "colab_type": "text"
      },
      "source": [
        "<a href=\"https://colab.research.google.com/github/Megha1230/DL/blob/main/RNN_using_TensorFlow_Keras_Custom_Dataset_Good_Happy_Bad_Sad.ipynb\" target=\"_parent\"><img src=\"https://colab.research.google.com/assets/colab-badge.svg\" alt=\"Open In Colab\"/></a>"
      ]
    },
    {
      "cell_type": "code",
      "metadata": {
        "id": "NejoLrKbOxuR"
      },
      "source": [
        "train_data = {\n",
        "  'good': True,\n",
        "  'bad': False,\n",
        "  'happy': True,\n",
        "  'sad': False,\n",
        "  'not good': False,\n",
        "  'not bad': True,\n",
        "  'not happy': False,\n",
        "  'not sad': True,\n",
        "  'very good': True,\n",
        "  'very bad': False,\n",
        "  'very happy': True,\n",
        "  'very sad': False,\n",
        "  'i am happy': True,\n",
        "  'this is good': True,\n",
        "  'i am bad': False,\n",
        "  'this is bad': False,\n",
        "  'i am sad': False,\n",
        "  'this is sad': False,\n",
        "  'i am not happy': False,\n",
        "  'this is not good': False,\n",
        "  'i am not bad': True,\n",
        "  'this is not sad': True,\n",
        "  'i am very happy': True,\n",
        "  'this is very good': True,\n",
        "  'i am very bad': False,\n",
        "  'this is very sad': False,\n",
        "  'this is very happy': True,\n",
        "  'i am good not bad': True,\n",
        "  'this is good not bad': True,\n",
        "  'i am bad not good': False,\n",
        "  'i am good and happy': True,\n",
        "  'this is not good and not happy': False,\n",
        "  'i am not at all good': False,\n",
        "  'i am not at all bad': True,\n",
        "  'i am not at all happy': False,\n",
        "  'this is not at all sad': True,\n",
        "  'this is not at all happy': False,\n",
        "  'i am good right now': True,\n",
        "  'i am bad right now': False,\n",
        "  'this is bad right now': False,\n",
        "  'i am sad right now': False,\n",
        "  'i was good earlier': True,\n",
        "  'i was happy earlier': True,\n",
        "  'i was bad earlier': False,\n",
        "  'i was sad earlier': False,\n",
        "  'i am very bad right now': False,\n",
        "  'this is very good right now': True,\n",
        "  'this is very sad right now': False,\n",
        "  'this was bad earlier': False,\n",
        "  'this was very good earlier': True,\n",
        "  'this was very bad earlier': False,\n",
        "  'this was very happy earlier': True,\n",
        "  'this was very sad earlier': False,\n",
        "  'i was good and not bad earlier': True,\n",
        "  'i was not good and not happy earlier': False,\n",
        "  'i am not at all bad or sad right now': True,\n",
        "  'i am not at all good or happy right now': False,\n",
        "  'this was not happy and not good earlier': False,\n",
        "}\n",
        "\n",
        "test_data = {\n",
        "  'this is happy': True,\n",
        "  'i am good': True,\n",
        "  'this is not happy': False,\n",
        "  'i am not good': False,\n",
        "  'this is not bad': True,\n",
        "  'i am not sad': True,\n",
        "  'i am very good': True,\n",
        "  'this is very bad': False,\n",
        "  'i am very sad': False,\n",
        "  'this is bad not good': False,\n",
        "  'this is good and happy': True,\n",
        "  'i am not good and not happy': False,\n",
        "  'i am not at all sad': True,\n",
        "  'this is not at all good': False,\n",
        "  'this is not at all bad': True,\n",
        "  'this is good right now': True,\n",
        "  'this is sad right now': False,\n",
        "  'this is very bad right now': False,\n",
        "  'this was good earlier': True,\n",
        "  'i was not happy and not good earlier': False,\n",
        "}"
      ],
      "execution_count": null,
      "outputs": []
    },
    {
      "cell_type": "code",
      "metadata": {
        "id": "DoX9hXW6O37L"
      },
      "source": [
        "X_train = list(train_data.keys())\n",
        "y_train = list(train_data.values())\n",
        "X_test = list(test_data.keys())\n",
        "y_test = list(test_data.values())"
      ],
      "execution_count": null,
      "outputs": []
    },
    {
      "cell_type": "code",
      "source": [
        "X_train"
      ],
      "metadata": {
        "colab": {
          "base_uri": "https://localhost:8080/"
        },
        "id": "vxxYEEaj7deQ",
        "outputId": "de583de2-891b-483d-9466-e0ee32dc6bbb"
      },
      "execution_count": null,
      "outputs": [
        {
          "output_type": "execute_result",
          "data": {
            "text/plain": [
              "['good',\n",
              " 'bad',\n",
              " 'happy',\n",
              " 'sad',\n",
              " 'not good',\n",
              " 'not bad',\n",
              " 'not happy',\n",
              " 'not sad',\n",
              " 'very good',\n",
              " 'very bad',\n",
              " 'very happy',\n",
              " 'very sad',\n",
              " 'i am happy',\n",
              " 'this is good',\n",
              " 'i am bad',\n",
              " 'this is bad',\n",
              " 'i am sad',\n",
              " 'this is sad',\n",
              " 'i am not happy',\n",
              " 'this is not good',\n",
              " 'i am not bad',\n",
              " 'this is not sad',\n",
              " 'i am very happy',\n",
              " 'this is very good',\n",
              " 'i am very bad',\n",
              " 'this is very sad',\n",
              " 'this is very happy',\n",
              " 'i am good not bad',\n",
              " 'this is good not bad',\n",
              " 'i am bad not good',\n",
              " 'i am good and happy',\n",
              " 'this is not good and not happy',\n",
              " 'i am not at all good',\n",
              " 'i am not at all bad',\n",
              " 'i am not at all happy',\n",
              " 'this is not at all sad',\n",
              " 'this is not at all happy',\n",
              " 'i am good right now',\n",
              " 'i am bad right now',\n",
              " 'this is bad right now',\n",
              " 'i am sad right now',\n",
              " 'i was good earlier',\n",
              " 'i was happy earlier',\n",
              " 'i was bad earlier',\n",
              " 'i was sad earlier',\n",
              " 'i am very bad right now',\n",
              " 'this is very good right now',\n",
              " 'this is very sad right now',\n",
              " 'this was bad earlier',\n",
              " 'this was very good earlier',\n",
              " 'this was very bad earlier',\n",
              " 'this was very happy earlier',\n",
              " 'this was very sad earlier',\n",
              " 'i was good and not bad earlier',\n",
              " 'i was not good and not happy earlier',\n",
              " 'i am not at all bad or sad right now',\n",
              " 'i am not at all good or happy right now',\n",
              " 'this was not happy and not good earlier']"
            ]
          },
          "metadata": {},
          "execution_count": 3
        }
      ]
    },
    {
      "cell_type": "code",
      "source": [
        "y_train"
      ],
      "metadata": {
        "colab": {
          "base_uri": "https://localhost:8080/"
        },
        "id": "eDzcWx5F7gi3",
        "outputId": "696b3c54-0edd-4b9b-8c2a-73e54aa230ba"
      },
      "execution_count": null,
      "outputs": [
        {
          "output_type": "execute_result",
          "data": {
            "text/plain": [
              "[True,\n",
              " False,\n",
              " True,\n",
              " False,\n",
              " False,\n",
              " True,\n",
              " False,\n",
              " True,\n",
              " True,\n",
              " False,\n",
              " True,\n",
              " False,\n",
              " True,\n",
              " True,\n",
              " False,\n",
              " False,\n",
              " False,\n",
              " False,\n",
              " False,\n",
              " False,\n",
              " True,\n",
              " True,\n",
              " True,\n",
              " True,\n",
              " False,\n",
              " False,\n",
              " True,\n",
              " True,\n",
              " True,\n",
              " False,\n",
              " True,\n",
              " False,\n",
              " False,\n",
              " True,\n",
              " False,\n",
              " True,\n",
              " False,\n",
              " True,\n",
              " False,\n",
              " False,\n",
              " False,\n",
              " True,\n",
              " True,\n",
              " False,\n",
              " False,\n",
              " False,\n",
              " True,\n",
              " False,\n",
              " False,\n",
              " True,\n",
              " False,\n",
              " True,\n",
              " False,\n",
              " True,\n",
              " False,\n",
              " True,\n",
              " False,\n",
              " False]"
            ]
          },
          "metadata": {},
          "execution_count": 5
        }
      ]
    },
    {
      "cell_type": "markdown",
      "source": [
        "## 3. Building the Model"
      ],
      "metadata": {
        "id": "jPPa34Jl78Lk"
      }
    },
    {
      "cell_type": "code",
      "metadata": {
        "id": "hxArCmPoO69D"
      },
      "source": [
        "from tensorflow.keras.models import Sequential\n",
        "from tensorflow.keras import Input\n",
        "\n",
        "model = Sequential()\n",
        "model.add(Input(shape=(1,), dtype=\"string\"))"
      ],
      "execution_count": null,
      "outputs": []
    },
    {
      "cell_type": "markdown",
      "metadata": {
        "id": "EEjmxn93PB-p"
      },
      "source": [
        "### 3.1 Text Vectorization"
      ]
    },
    {
      "cell_type": "code",
      "metadata": {
        "id": "KN4FvzAtO_2h"
      },
      "source": [
        "from tensorflow.keras.layers.experimental.preprocessing import TextVectorization\n",
        "\n",
        "max_tokens = 20\n",
        "max_len = 5\n",
        "vectorize_layer = TextVectorization(\n",
        "  # Max vocab size. Any words outside of the max_tokens most common ones\n",
        "  # will be treated the same way: as \"out of vocabulary\" (OOV) tokens.\n",
        "  max_tokens=max_tokens,\n",
        "  # Output integer indices, one per string token\n",
        "  output_mode=\"int\",\n",
        "  # Always pad or truncate to exactly this many tokens\n",
        "  output_sequence_length=max_len,\n",
        ")"
      ],
      "execution_count": null,
      "outputs": []
    },
    {
      "cell_type": "code",
      "metadata": {
        "id": "TPoBlW9kPMI2",
        "colab": {
          "base_uri": "https://localhost:8080/"
        },
        "outputId": "32088926-456e-4884-83c3-ac2d13e0db2c"
      },
      "source": [
        "# Call adapt(), which fits the TextVectorization layer to our text dataset.\n",
        "# This is when the max_tokens most common words (i.e. the vocabulary) are selected.\n",
        "vectorize_layer.adapt(X_train)"
      ],
      "execution_count": null,
      "outputs": [
        {
          "output_type": "stream",
          "name": "stderr",
          "text": [
            "WARNING:tensorflow:5 out of the last 9 calls to <function PreprocessingLayer.make_adapt_function.<locals>.adapt_step at 0x7c7b467f0d30> triggered tf.function retracing. Tracing is expensive and the excessive number of tracings could be due to (1) creating @tf.function repeatedly in a loop, (2) passing tensors with different shapes, (3) passing Python objects instead of tensors. For (1), please define your @tf.function outside of the loop. For (2), @tf.function has reduce_retracing=True option that can avoid unnecessary retracing. For (3), please refer to https://www.tensorflow.org/guide/function#controlling_retracing and https://www.tensorflow.org/api_docs/python/tf/function for  more details.\n"
          ]
        }
      ]
    },
    {
      "cell_type": "code",
      "metadata": {
        "colab": {
          "base_uri": "https://localhost:8080/"
        },
        "id": "-L806eMFPPlW",
        "outputId": "bf479f94-1ca4-44bf-e2da-0a3d8103adc0"
      },
      "source": [
        "reverse_word_index = vectorize_layer.get_vocabulary()\n",
        "reverse_word_index"
      ],
      "execution_count": null,
      "outputs": [
        {
          "output_type": "execute_result",
          "data": {
            "text/plain": [
              "['',\n",
              " '[UNK]',\n",
              " 'not',\n",
              " 'i',\n",
              " 'this',\n",
              " 'good',\n",
              " 'bad',\n",
              " 'am',\n",
              " 'very',\n",
              " 'happy',\n",
              " 'is',\n",
              " 'sad',\n",
              " 'was',\n",
              " 'earlier',\n",
              " 'right',\n",
              " 'now',\n",
              " 'at',\n",
              " 'all',\n",
              " 'and',\n",
              " 'or']"
            ]
          },
          "metadata": {},
          "execution_count": 36
        }
      ]
    },
    {
      "cell_type": "code",
      "metadata": {
        "colab": {
          "base_uri": "https://localhost:8080/"
        },
        "id": "ddMoHQDOPRom",
        "outputId": "7714d445-d293-4c6f-85f4-d0c947b88469"
      },
      "source": [
        "vectorize_layer.get_weights()"
      ],
      "execution_count": null,
      "outputs": [
        {
          "output_type": "execute_result",
          "data": {
            "text/plain": [
              "[array([b'not', b'i', b'this', b'good', b'bad', b'am', b'very', b'happy',\n",
              "        b'is', b'sad', b'was', b'earlier', b'right', b'now', b'at', b'all',\n",
              "        b'and', b'or'], dtype=object)]"
            ]
          },
          "metadata": {},
          "execution_count": 37
        }
      ]
    },
    {
      "cell_type": "code",
      "metadata": {
        "id": "oA-8gvzoPYz_"
      },
      "source": [
        "model.add(vectorize_layer)"
      ],
      "execution_count": null,
      "outputs": []
    },
    {
      "cell_type": "code",
      "metadata": {
        "colab": {
          "base_uri": "https://localhost:8080/"
        },
        "id": "gRCqpPh1Pi5H",
        "outputId": "777239c8-6440-4f46-d198-f099f43b77bb"
      },
      "source": [
        "model.summary()"
      ],
      "execution_count": null,
      "outputs": [
        {
          "output_type": "stream",
          "name": "stdout",
          "text": [
            "Model: \"sequential_2\"\n",
            "_________________________________________________________________\n",
            " Layer (type)                Output Shape              Param #   \n",
            "=================================================================\n",
            " text_vectorization_5 (Text  (None, 5)                 0         \n",
            " Vectorization)                                                  \n",
            "                                                                 \n",
            "=================================================================\n",
            "Total params: 0 (0.00 Byte)\n",
            "Trainable params: 0 (0.00 Byte)\n",
            "Non-trainable params: 0 (0.00 Byte)\n",
            "_________________________________________________________________\n"
          ]
        }
      ]
    },
    {
      "cell_type": "markdown",
      "source": [
        "## 3.2 Embedding"
      ],
      "metadata": {
        "id": "zjpmMIX07vFD"
      }
    },
    {
      "cell_type": "code",
      "metadata": {
        "id": "QqaG9xXEPj4x"
      },
      "source": [
        "from tensorflow.keras.layers import Embedding\n",
        "\n",
        "# Note that we're using max_tokens + 1 here, since there's an\n",
        "# out-of-vocabulary (OOV) token that gets added to the vocab.\n",
        "model.add(Embedding(max_tokens + 1, 8))"
      ],
      "execution_count": null,
      "outputs": []
    },
    {
      "cell_type": "markdown",
      "source": [
        "## 3.3 The Recurrent Layer"
      ],
      "metadata": {
        "id": "VWaUGrdB7xLG"
      }
    },
    {
      "cell_type": "code",
      "metadata": {
        "id": "cJoUW6dLSagy"
      },
      "source": [
        "from tensorflow.keras.layers import LSTM, SimpleRNN\n",
        "\n",
        "# 64 is the \"units\" parameter, which is the\n",
        "# dimensionality of the output space.\n",
        "model.add(LSTM(16))\n",
        "# model.add(SimpleRNN(16))"
      ],
      "execution_count": null,
      "outputs": []
    },
    {
      "cell_type": "code",
      "metadata": {
        "id": "9NT2gurHSbmQ"
      },
      "source": [
        "from tensorflow.keras.layers import Dense\n",
        "\n",
        "model.add(Dense(16, activation=\"relu\"))\n",
        "model.add(Dense(1, activation=\"sigmoid\"))"
      ],
      "execution_count": null,
      "outputs": []
    },
    {
      "cell_type": "code",
      "metadata": {
        "colab": {
          "base_uri": "https://localhost:8080/"
        },
        "id": "M80_4QEOSoID",
        "outputId": "22bf151e-2cc6-409d-9338-8bfd5d86545c"
      },
      "source": [
        "model.summary()"
      ],
      "execution_count": null,
      "outputs": [
        {
          "output_type": "stream",
          "name": "stdout",
          "text": [
            "Model: \"sequential_2\"\n",
            "_________________________________________________________________\n",
            " Layer (type)                Output Shape              Param #   \n",
            "=================================================================\n",
            " text_vectorization_5 (Text  (None, 5)                 0         \n",
            " Vectorization)                                                  \n",
            "                                                                 \n",
            " embedding_1 (Embedding)     (None, 5, 8)              168       \n",
            "                                                                 \n",
            " lstm (LSTM)                 (None, 16)                1600      \n",
            "                                                                 \n",
            " dense_2 (Dense)             (None, 16)                272       \n",
            "                                                                 \n",
            " dense_3 (Dense)             (None, 1)                 17        \n",
            "                                                                 \n",
            "=================================================================\n",
            "Total params: 2057 (8.04 KB)\n",
            "Trainable params: 2057 (8.04 KB)\n",
            "Non-trainable params: 0 (0.00 Byte)\n",
            "_________________________________________________________________\n"
          ]
        }
      ]
    },
    {
      "cell_type": "markdown",
      "source": [
        "## 4. Compiling the Model\n"
      ],
      "metadata": {
        "id": "NR9T-9Mj8Oxk"
      }
    },
    {
      "cell_type": "code",
      "metadata": {
        "id": "2ipG6f3ZSqSh"
      },
      "source": [
        "model.compile(\n",
        "  optimizer='adam',\n",
        "  loss='binary_crossentropy',\n",
        "  metrics=['accuracy'],\n",
        ")"
      ],
      "execution_count": null,
      "outputs": []
    },
    {
      "cell_type": "markdown",
      "source": [
        "## 4. Compiling the Model\n"
      ],
      "metadata": {
        "id": "UXRHZB9U8Qj2"
      }
    },
    {
      "cell_type": "code",
      "metadata": {
        "colab": {
          "base_uri": "https://localhost:8080/"
        },
        "id": "RAEsYQq-S0aL",
        "outputId": "5efd886a-754b-46a8-8432-12efb2e8f439"
      },
      "source": [
        "history = model.fit(X_train, y_train, epochs=200)\n"
      ],
      "execution_count": null,
      "outputs": [
        {
          "output_type": "stream",
          "name": "stdout",
          "text": [
            "Epoch 1/200\n",
            "2/2 [==============================] - 3s 11ms/step - loss: 0.6934 - accuracy: 0.4828\n",
            "Epoch 2/200\n",
            "2/2 [==============================] - 0s 11ms/step - loss: 0.6930 - accuracy: 0.5862\n",
            "Epoch 3/200\n",
            "2/2 [==============================] - 0s 12ms/step - loss: 0.6927 - accuracy: 0.6552\n",
            "Epoch 4/200\n",
            "2/2 [==============================] - 0s 10ms/step - loss: 0.6924 - accuracy: 0.6379\n",
            "Epoch 5/200\n",
            "2/2 [==============================] - 0s 11ms/step - loss: 0.6921 - accuracy: 0.5517\n",
            "Epoch 6/200\n",
            "2/2 [==============================] - 0s 12ms/step - loss: 0.6919 - accuracy: 0.5517\n",
            "Epoch 7/200\n",
            "2/2 [==============================] - 0s 17ms/step - loss: 0.6916 - accuracy: 0.5517\n",
            "Epoch 8/200\n",
            "2/2 [==============================] - 0s 12ms/step - loss: 0.6912 - accuracy: 0.5517\n",
            "Epoch 9/200\n",
            "2/2 [==============================] - 0s 15ms/step - loss: 0.6909 - accuracy: 0.5517\n",
            "Epoch 10/200\n",
            "2/2 [==============================] - 0s 11ms/step - loss: 0.6905 - accuracy: 0.5517\n",
            "Epoch 11/200\n",
            "2/2 [==============================] - 0s 13ms/step - loss: 0.6902 - accuracy: 0.5517\n",
            "Epoch 12/200\n",
            "2/2 [==============================] - 0s 11ms/step - loss: 0.6898 - accuracy: 0.5517\n",
            "Epoch 13/200\n",
            "2/2 [==============================] - 0s 12ms/step - loss: 0.6893 - accuracy: 0.5517\n",
            "Epoch 14/200\n",
            "2/2 [==============================] - 0s 11ms/step - loss: 0.6888 - accuracy: 0.5517\n",
            "Epoch 15/200\n",
            "2/2 [==============================] - 0s 11ms/step - loss: 0.6882 - accuracy: 0.5517\n",
            "Epoch 16/200\n",
            "2/2 [==============================] - 0s 11ms/step - loss: 0.6877 - accuracy: 0.5517\n",
            "Epoch 17/200\n",
            "2/2 [==============================] - 0s 12ms/step - loss: 0.6871 - accuracy: 0.5517\n",
            "Epoch 18/200\n",
            "2/2 [==============================] - 0s 11ms/step - loss: 0.6865 - accuracy: 0.5517\n",
            "Epoch 19/200\n",
            "2/2 [==============================] - 0s 11ms/step - loss: 0.6858 - accuracy: 0.5517\n",
            "Epoch 20/200\n",
            "2/2 [==============================] - 0s 15ms/step - loss: 0.6851 - accuracy: 0.5517\n",
            "Epoch 21/200\n",
            "2/2 [==============================] - 0s 12ms/step - loss: 0.6842 - accuracy: 0.5517\n",
            "Epoch 22/200\n",
            "2/2 [==============================] - 0s 11ms/step - loss: 0.6832 - accuracy: 0.5517\n",
            "Epoch 23/200\n",
            "2/2 [==============================] - 0s 14ms/step - loss: 0.6821 - accuracy: 0.5517\n",
            "Epoch 24/200\n",
            "2/2 [==============================] - 0s 12ms/step - loss: 0.6809 - accuracy: 0.5517\n",
            "Epoch 25/200\n",
            "2/2 [==============================] - 0s 11ms/step - loss: 0.6794 - accuracy: 0.5517\n",
            "Epoch 26/200\n",
            "2/2 [==============================] - 0s 10ms/step - loss: 0.6778 - accuracy: 0.5517\n",
            "Epoch 27/200\n",
            "2/2 [==============================] - 0s 12ms/step - loss: 0.6761 - accuracy: 0.5690\n",
            "Epoch 28/200\n",
            "2/2 [==============================] - 0s 11ms/step - loss: 0.6742 - accuracy: 0.6897\n",
            "Epoch 29/200\n",
            "2/2 [==============================] - 0s 11ms/step - loss: 0.6719 - accuracy: 0.7586\n",
            "Epoch 30/200\n",
            "2/2 [==============================] - 0s 11ms/step - loss: 0.6696 - accuracy: 0.7931\n",
            "Epoch 31/200\n",
            "2/2 [==============================] - 0s 11ms/step - loss: 0.6669 - accuracy: 0.8276\n",
            "Epoch 32/200\n",
            "2/2 [==============================] - 0s 13ms/step - loss: 0.6640 - accuracy: 0.8276\n",
            "Epoch 33/200\n",
            "2/2 [==============================] - 0s 11ms/step - loss: 0.6604 - accuracy: 0.8276\n",
            "Epoch 34/200\n",
            "2/2 [==============================] - 0s 12ms/step - loss: 0.6567 - accuracy: 0.8276\n",
            "Epoch 35/200\n",
            "2/2 [==============================] - 0s 11ms/step - loss: 0.6525 - accuracy: 0.8276\n",
            "Epoch 36/200\n",
            "2/2 [==============================] - 0s 13ms/step - loss: 0.6482 - accuracy: 0.8276\n",
            "Epoch 37/200\n",
            "2/2 [==============================] - 0s 14ms/step - loss: 0.6427 - accuracy: 0.8276\n",
            "Epoch 38/200\n",
            "2/2 [==============================] - 0s 12ms/step - loss: 0.6369 - accuracy: 0.8276\n",
            "Epoch 39/200\n",
            "2/2 [==============================] - 0s 10ms/step - loss: 0.6306 - accuracy: 0.8276\n",
            "Epoch 40/200\n",
            "2/2 [==============================] - 0s 14ms/step - loss: 0.6239 - accuracy: 0.8276\n",
            "Epoch 41/200\n",
            "2/2 [==============================] - 0s 12ms/step - loss: 0.6159 - accuracy: 0.8276\n",
            "Epoch 42/200\n",
            "2/2 [==============================] - 0s 13ms/step - loss: 0.6089 - accuracy: 0.8448\n",
            "Epoch 43/200\n",
            "2/2 [==============================] - 0s 11ms/step - loss: 0.6006 - accuracy: 0.8448\n",
            "Epoch 44/200\n",
            "2/2 [==============================] - 0s 11ms/step - loss: 0.5904 - accuracy: 0.8448\n",
            "Epoch 45/200\n",
            "2/2 [==============================] - 0s 13ms/step - loss: 0.5800 - accuracy: 0.8448\n",
            "Epoch 46/200\n",
            "2/2 [==============================] - 0s 12ms/step - loss: 0.5694 - accuracy: 0.8448\n",
            "Epoch 47/200\n",
            "2/2 [==============================] - 0s 11ms/step - loss: 0.5585 - accuracy: 0.8448\n",
            "Epoch 48/200\n",
            "2/2 [==============================] - 0s 18ms/step - loss: 0.5467 - accuracy: 0.8448\n",
            "Epoch 49/200\n",
            "2/2 [==============================] - 0s 12ms/step - loss: 0.5345 - accuracy: 0.8448\n",
            "Epoch 50/200\n",
            "2/2 [==============================] - 0s 11ms/step - loss: 0.5222 - accuracy: 0.8448\n",
            "Epoch 51/200\n",
            "2/2 [==============================] - 0s 11ms/step - loss: 0.5091 - accuracy: 0.8448\n",
            "Epoch 52/200\n",
            "2/2 [==============================] - 0s 11ms/step - loss: 0.4973 - accuracy: 0.8448\n",
            "Epoch 53/200\n",
            "2/2 [==============================] - 0s 13ms/step - loss: 0.4853 - accuracy: 0.8448\n",
            "Epoch 54/200\n",
            "2/2 [==============================] - 0s 12ms/step - loss: 0.4740 - accuracy: 0.8448\n",
            "Epoch 55/200\n",
            "2/2 [==============================] - 0s 11ms/step - loss: 0.4630 - accuracy: 0.8448\n",
            "Epoch 56/200\n",
            "2/2 [==============================] - 0s 11ms/step - loss: 0.4518 - accuracy: 0.8448\n",
            "Epoch 57/200\n",
            "2/2 [==============================] - 0s 11ms/step - loss: 0.4417 - accuracy: 0.8448\n",
            "Epoch 58/200\n",
            "2/2 [==============================] - 0s 11ms/step - loss: 0.4319 - accuracy: 0.8448\n",
            "Epoch 59/200\n",
            "2/2 [==============================] - 0s 12ms/step - loss: 0.4225 - accuracy: 0.8448\n",
            "Epoch 60/200\n",
            "2/2 [==============================] - 0s 11ms/step - loss: 0.4128 - accuracy: 0.8448\n",
            "Epoch 61/200\n",
            "2/2 [==============================] - 0s 14ms/step - loss: 0.4036 - accuracy: 0.8448\n",
            "Epoch 62/200\n",
            "2/2 [==============================] - 0s 16ms/step - loss: 0.3931 - accuracy: 0.8621\n",
            "Epoch 63/200\n",
            "2/2 [==============================] - 0s 15ms/step - loss: 0.3845 - accuracy: 0.8621\n",
            "Epoch 64/200\n",
            "2/2 [==============================] - 0s 14ms/step - loss: 0.3750 - accuracy: 0.8793\n",
            "Epoch 65/200\n",
            "2/2 [==============================] - 0s 15ms/step - loss: 0.3658 - accuracy: 0.8793\n",
            "Epoch 66/200\n",
            "2/2 [==============================] - 0s 16ms/step - loss: 0.3567 - accuracy: 0.8793\n",
            "Epoch 67/200\n",
            "2/2 [==============================] - 0s 14ms/step - loss: 0.3479 - accuracy: 0.8793\n",
            "Epoch 68/200\n",
            "2/2 [==============================] - 0s 12ms/step - loss: 0.3390 - accuracy: 0.8793\n",
            "Epoch 69/200\n",
            "2/2 [==============================] - 0s 13ms/step - loss: 0.3292 - accuracy: 0.8793\n",
            "Epoch 70/200\n",
            "2/2 [==============================] - 0s 11ms/step - loss: 0.3209 - accuracy: 0.8793\n",
            "Epoch 71/200\n",
            "2/2 [==============================] - 0s 13ms/step - loss: 0.3122 - accuracy: 0.8793\n",
            "Epoch 72/200\n",
            "2/2 [==============================] - 0s 13ms/step - loss: 0.3029 - accuracy: 0.8793\n",
            "Epoch 73/200\n",
            "2/2 [==============================] - 0s 21ms/step - loss: 0.2939 - accuracy: 0.8793\n",
            "Epoch 74/200\n",
            "2/2 [==============================] - 0s 13ms/step - loss: 0.2850 - accuracy: 0.8793\n",
            "Epoch 75/200\n",
            "2/2 [==============================] - 0s 12ms/step - loss: 0.2757 - accuracy: 0.8793\n",
            "Epoch 76/200\n",
            "2/2 [==============================] - 0s 12ms/step - loss: 0.2670 - accuracy: 0.8793\n",
            "Epoch 77/200\n",
            "2/2 [==============================] - 0s 12ms/step - loss: 0.2583 - accuracy: 0.9138\n",
            "Epoch 78/200\n",
            "2/2 [==============================] - 0s 12ms/step - loss: 0.2483 - accuracy: 0.9138\n",
            "Epoch 79/200\n",
            "2/2 [==============================] - 0s 14ms/step - loss: 0.2402 - accuracy: 0.9138\n",
            "Epoch 80/200\n",
            "2/2 [==============================] - 0s 13ms/step - loss: 0.2322 - accuracy: 0.9138\n",
            "Epoch 81/200\n",
            "2/2 [==============================] - 0s 12ms/step - loss: 0.2231 - accuracy: 0.9138\n",
            "Epoch 82/200\n",
            "2/2 [==============================] - 0s 12ms/step - loss: 0.2137 - accuracy: 0.9138\n",
            "Epoch 83/200\n",
            "2/2 [==============================] - 0s 15ms/step - loss: 0.2056 - accuracy: 0.9138\n",
            "Epoch 84/200\n",
            "2/2 [==============================] - 0s 18ms/step - loss: 0.1980 - accuracy: 0.9138\n",
            "Epoch 85/200\n",
            "2/2 [==============================] - 0s 12ms/step - loss: 0.1899 - accuracy: 0.9138\n",
            "Epoch 86/200\n",
            "2/2 [==============================] - 0s 13ms/step - loss: 0.1826 - accuracy: 0.9138\n",
            "Epoch 87/200\n",
            "2/2 [==============================] - 0s 12ms/step - loss: 0.1755 - accuracy: 0.9138\n",
            "Epoch 88/200\n",
            "2/2 [==============================] - 0s 20ms/step - loss: 0.1702 - accuracy: 0.9138\n",
            "Epoch 89/200\n",
            "2/2 [==============================] - 0s 16ms/step - loss: 0.1641 - accuracy: 0.9310\n",
            "Epoch 90/200\n",
            "2/2 [==============================] - 0s 19ms/step - loss: 0.1585 - accuracy: 0.9310\n",
            "Epoch 91/200\n",
            "2/2 [==============================] - 0s 18ms/step - loss: 0.1528 - accuracy: 0.9483\n",
            "Epoch 92/200\n",
            "2/2 [==============================] - 0s 17ms/step - loss: 0.1481 - accuracy: 0.9483\n",
            "Epoch 93/200\n",
            "2/2 [==============================] - 0s 15ms/step - loss: 0.1442 - accuracy: 0.9483\n",
            "Epoch 94/200\n",
            "2/2 [==============================] - 0s 18ms/step - loss: 0.1402 - accuracy: 0.9483\n",
            "Epoch 95/200\n",
            "2/2 [==============================] - 0s 19ms/step - loss: 0.1371 - accuracy: 0.9483\n",
            "Epoch 96/200\n",
            "2/2 [==============================] - 0s 17ms/step - loss: 0.1332 - accuracy: 0.9483\n",
            "Epoch 97/200\n",
            "2/2 [==============================] - 0s 19ms/step - loss: 0.1304 - accuracy: 0.9483\n",
            "Epoch 98/200\n",
            "2/2 [==============================] - 0s 13ms/step - loss: 0.1277 - accuracy: 0.9483\n",
            "Epoch 99/200\n",
            "2/2 [==============================] - 0s 12ms/step - loss: 0.1252 - accuracy: 0.9483\n",
            "Epoch 100/200\n",
            "2/2 [==============================] - 0s 15ms/step - loss: 0.1228 - accuracy: 0.9483\n",
            "Epoch 101/200\n",
            "2/2 [==============================] - 0s 15ms/step - loss: 0.1221 - accuracy: 0.9310\n",
            "Epoch 102/200\n",
            "2/2 [==============================] - 0s 17ms/step - loss: 0.1190 - accuracy: 0.9483\n",
            "Epoch 103/200\n",
            "2/2 [==============================] - 0s 19ms/step - loss: 0.1216 - accuracy: 0.9483\n",
            "Epoch 104/200\n",
            "2/2 [==============================] - 0s 19ms/step - loss: 0.1168 - accuracy: 0.9138\n",
            "Epoch 105/200\n",
            "2/2 [==============================] - 0s 11ms/step - loss: 0.1154 - accuracy: 0.9138\n",
            "Epoch 106/200\n",
            "2/2 [==============================] - 0s 11ms/step - loss: 0.1124 - accuracy: 0.9483\n",
            "Epoch 107/200\n",
            "2/2 [==============================] - 0s 11ms/step - loss: 0.1128 - accuracy: 0.9310\n",
            "Epoch 108/200\n",
            "2/2 [==============================] - 0s 11ms/step - loss: 0.1115 - accuracy: 0.9483\n",
            "Epoch 109/200\n",
            "2/2 [==============================] - 0s 12ms/step - loss: 0.1110 - accuracy: 0.9483\n",
            "Epoch 110/200\n",
            "2/2 [==============================] - 0s 13ms/step - loss: 0.1092 - accuracy: 0.9310\n",
            "Epoch 111/200\n",
            "2/2 [==============================] - 0s 11ms/step - loss: 0.1072 - accuracy: 0.9483\n",
            "Epoch 112/200\n",
            "2/2 [==============================] - 0s 11ms/step - loss: 0.1063 - accuracy: 0.9483\n",
            "Epoch 113/200\n",
            "2/2 [==============================] - 0s 12ms/step - loss: 0.1071 - accuracy: 0.9310\n",
            "Epoch 114/200\n",
            "2/2 [==============================] - 0s 12ms/step - loss: 0.1115 - accuracy: 0.9310\n",
            "Epoch 115/200\n",
            "2/2 [==============================] - 0s 12ms/step - loss: 0.1073 - accuracy: 0.9138\n",
            "Epoch 116/200\n",
            "2/2 [==============================] - 0s 11ms/step - loss: 0.1043 - accuracy: 0.9483\n",
            "Epoch 117/200\n",
            "2/2 [==============================] - 0s 14ms/step - loss: 0.1028 - accuracy: 0.9483\n",
            "Epoch 118/200\n",
            "2/2 [==============================] - 0s 12ms/step - loss: 0.1044 - accuracy: 0.9310\n",
            "Epoch 119/200\n",
            "2/2 [==============================] - 0s 11ms/step - loss: 0.1022 - accuracy: 0.9310\n",
            "Epoch 120/200\n",
            "2/2 [==============================] - 0s 12ms/step - loss: 0.1030 - accuracy: 0.9483\n",
            "Epoch 121/200\n",
            "2/2 [==============================] - 0s 12ms/step - loss: 0.1033 - accuracy: 0.9483\n",
            "Epoch 122/200\n",
            "2/2 [==============================] - 0s 11ms/step - loss: 0.1005 - accuracy: 0.9483\n",
            "Epoch 123/200\n",
            "2/2 [==============================] - 0s 11ms/step - loss: 0.0996 - accuracy: 0.9483\n",
            "Epoch 124/200\n",
            "2/2 [==============================] - 0s 12ms/step - loss: 0.0995 - accuracy: 0.9483\n",
            "Epoch 125/200\n",
            "2/2 [==============================] - 0s 11ms/step - loss: 0.0991 - accuracy: 0.9483\n",
            "Epoch 126/200\n",
            "2/2 [==============================] - 0s 11ms/step - loss: 0.0998 - accuracy: 0.9483\n",
            "Epoch 127/200\n",
            "2/2 [==============================] - 0s 11ms/step - loss: 0.0993 - accuracy: 0.9483\n",
            "Epoch 128/200\n",
            "2/2 [==============================] - 0s 11ms/step - loss: 0.0973 - accuracy: 0.9483\n",
            "Epoch 129/200\n",
            "2/2 [==============================] - 0s 12ms/step - loss: 0.0968 - accuracy: 0.9483\n",
            "Epoch 130/200\n",
            "2/2 [==============================] - 0s 12ms/step - loss: 0.0977 - accuracy: 0.9483\n",
            "Epoch 131/200\n",
            "2/2 [==============================] - 0s 14ms/step - loss: 0.0958 - accuracy: 0.9483\n",
            "Epoch 132/200\n",
            "2/2 [==============================] - 0s 15ms/step - loss: 0.0955 - accuracy: 0.9483\n",
            "Epoch 133/200\n",
            "2/2 [==============================] - 0s 12ms/step - loss: 0.0966 - accuracy: 0.9483\n",
            "Epoch 134/200\n",
            "2/2 [==============================] - 0s 11ms/step - loss: 0.0950 - accuracy: 0.9483\n",
            "Epoch 135/200\n",
            "2/2 [==============================] - 0s 11ms/step - loss: 0.0952 - accuracy: 0.9483\n",
            "Epoch 136/200\n",
            "2/2 [==============================] - 0s 12ms/step - loss: 0.0956 - accuracy: 0.9310\n",
            "Epoch 137/200\n",
            "2/2 [==============================] - 0s 11ms/step - loss: 0.0955 - accuracy: 0.9483\n",
            "Epoch 138/200\n",
            "2/2 [==============================] - 0s 11ms/step - loss: 0.0959 - accuracy: 0.9483\n",
            "Epoch 139/200\n",
            "2/2 [==============================] - 0s 12ms/step - loss: 0.0964 - accuracy: 0.9483\n",
            "Epoch 140/200\n",
            "2/2 [==============================] - 0s 13ms/step - loss: 0.0934 - accuracy: 0.9483\n",
            "Epoch 141/200\n",
            "2/2 [==============================] - 0s 13ms/step - loss: 0.0945 - accuracy: 0.9483\n",
            "Epoch 142/200\n",
            "2/2 [==============================] - 0s 13ms/step - loss: 0.0960 - accuracy: 0.9483\n",
            "Epoch 143/200\n",
            "2/2 [==============================] - 0s 12ms/step - loss: 0.0929 - accuracy: 0.9483\n",
            "Epoch 144/200\n",
            "2/2 [==============================] - 0s 13ms/step - loss: 0.0918 - accuracy: 0.9483\n",
            "Epoch 145/200\n",
            "2/2 [==============================] - 0s 13ms/step - loss: 0.0932 - accuracy: 0.9483\n",
            "Epoch 146/200\n",
            "2/2 [==============================] - 0s 13ms/step - loss: 0.0929 - accuracy: 0.9483\n",
            "Epoch 147/200\n",
            "2/2 [==============================] - 0s 12ms/step - loss: 0.0930 - accuracy: 0.9483\n",
            "Epoch 148/200\n",
            "2/2 [==============================] - 0s 12ms/step - loss: 0.0922 - accuracy: 0.9483\n",
            "Epoch 149/200\n",
            "2/2 [==============================] - 0s 12ms/step - loss: 0.0907 - accuracy: 0.9483\n",
            "Epoch 150/200\n",
            "2/2 [==============================] - 0s 12ms/step - loss: 0.0960 - accuracy: 0.9483\n",
            "Epoch 151/200\n",
            "2/2 [==============================] - 0s 14ms/step - loss: 0.0933 - accuracy: 0.9483\n",
            "Epoch 152/200\n",
            "2/2 [==============================] - 0s 12ms/step - loss: 0.0918 - accuracy: 0.9310\n",
            "Epoch 153/200\n",
            "2/2 [==============================] - 0s 11ms/step - loss: 0.0922 - accuracy: 0.9483\n",
            "Epoch 154/200\n",
            "2/2 [==============================] - 0s 12ms/step - loss: 0.0915 - accuracy: 0.9483\n",
            "Epoch 155/200\n",
            "2/2 [==============================] - 0s 12ms/step - loss: 0.0929 - accuracy: 0.9483\n",
            "Epoch 156/200\n",
            "2/2 [==============================] - 0s 12ms/step - loss: 0.0903 - accuracy: 0.9483\n",
            "Epoch 157/200\n",
            "2/2 [==============================] - 0s 11ms/step - loss: 0.0901 - accuracy: 0.9483\n",
            "Epoch 158/200\n",
            "2/2 [==============================] - 0s 15ms/step - loss: 0.0904 - accuracy: 0.9483\n",
            "Epoch 159/200\n",
            "2/2 [==============================] - 0s 11ms/step - loss: 0.0905 - accuracy: 0.9483\n",
            "Epoch 160/200\n",
            "2/2 [==============================] - 0s 12ms/step - loss: 0.0909 - accuracy: 0.9310\n",
            "Epoch 161/200\n",
            "2/2 [==============================] - 0s 13ms/step - loss: 0.0917 - accuracy: 0.9483\n",
            "Epoch 162/200\n",
            "2/2 [==============================] - 0s 12ms/step - loss: 0.0909 - accuracy: 0.9483\n",
            "Epoch 163/200\n",
            "2/2 [==============================] - 0s 12ms/step - loss: 0.0896 - accuracy: 0.9483\n",
            "Epoch 164/200\n",
            "2/2 [==============================] - 0s 12ms/step - loss: 0.0903 - accuracy: 0.9483\n",
            "Epoch 165/200\n",
            "2/2 [==============================] - 0s 12ms/step - loss: 0.0901 - accuracy: 0.9483\n",
            "Epoch 166/200\n",
            "2/2 [==============================] - 0s 12ms/step - loss: 0.0901 - accuracy: 0.9483\n",
            "Epoch 167/200\n",
            "2/2 [==============================] - 0s 11ms/step - loss: 0.0892 - accuracy: 0.9483\n",
            "Epoch 168/200\n",
            "2/2 [==============================] - 0s 11ms/step - loss: 0.0893 - accuracy: 0.9483\n",
            "Epoch 169/200\n",
            "2/2 [==============================] - 0s 12ms/step - loss: 0.0909 - accuracy: 0.9483\n",
            "Epoch 170/200\n",
            "2/2 [==============================] - 0s 12ms/step - loss: 0.0893 - accuracy: 0.9483\n",
            "Epoch 171/200\n",
            "2/2 [==============================] - 0s 11ms/step - loss: 0.0891 - accuracy: 0.9483\n",
            "Epoch 172/200\n",
            "2/2 [==============================] - 0s 13ms/step - loss: 0.0888 - accuracy: 0.9483\n",
            "Epoch 173/200\n",
            "2/2 [==============================] - 0s 15ms/step - loss: 0.0934 - accuracy: 0.9138\n",
            "Epoch 174/200\n",
            "2/2 [==============================] - 0s 18ms/step - loss: 0.0916 - accuracy: 0.9483\n",
            "Epoch 175/200\n",
            "2/2 [==============================] - 0s 14ms/step - loss: 0.0876 - accuracy: 0.9483\n",
            "Epoch 176/200\n",
            "2/2 [==============================] - 0s 12ms/step - loss: 0.0883 - accuracy: 0.9483\n",
            "Epoch 177/200\n",
            "2/2 [==============================] - 0s 13ms/step - loss: 0.0896 - accuracy: 0.9483\n",
            "Epoch 178/200\n",
            "2/2 [==============================] - 0s 14ms/step - loss: 0.0891 - accuracy: 0.9483\n",
            "Epoch 179/200\n",
            "2/2 [==============================] - 0s 13ms/step - loss: 0.0871 - accuracy: 0.9483\n",
            "Epoch 180/200\n",
            "2/2 [==============================] - 0s 12ms/step - loss: 0.0896 - accuracy: 0.9483\n",
            "Epoch 181/200\n",
            "2/2 [==============================] - 0s 12ms/step - loss: 0.0880 - accuracy: 0.9483\n",
            "Epoch 182/200\n",
            "2/2 [==============================] - 0s 21ms/step - loss: 0.0882 - accuracy: 0.9483\n",
            "Epoch 183/200\n",
            "2/2 [==============================] - 0s 13ms/step - loss: 0.0882 - accuracy: 0.9483\n",
            "Epoch 184/200\n",
            "2/2 [==============================] - 0s 15ms/step - loss: 0.0874 - accuracy: 0.9483\n",
            "Epoch 185/200\n",
            "2/2 [==============================] - 0s 12ms/step - loss: 0.0872 - accuracy: 0.9483\n",
            "Epoch 186/200\n",
            "2/2 [==============================] - 0s 13ms/step - loss: 0.0907 - accuracy: 0.9310\n",
            "Epoch 187/200\n",
            "2/2 [==============================] - 0s 12ms/step - loss: 0.0884 - accuracy: 0.9483\n",
            "Epoch 188/200\n",
            "2/2 [==============================] - 0s 11ms/step - loss: 0.0889 - accuracy: 0.9483\n",
            "Epoch 189/200\n",
            "2/2 [==============================] - 0s 12ms/step - loss: 0.0869 - accuracy: 0.9483\n",
            "Epoch 190/200\n",
            "2/2 [==============================] - 0s 12ms/step - loss: 0.0875 - accuracy: 0.9483\n",
            "Epoch 191/200\n",
            "2/2 [==============================] - 0s 11ms/step - loss: 0.0871 - accuracy: 0.9483\n",
            "Epoch 192/200\n",
            "2/2 [==============================] - 0s 12ms/step - loss: 0.0870 - accuracy: 0.9310\n",
            "Epoch 193/200\n",
            "2/2 [==============================] - 0s 11ms/step - loss: 0.0878 - accuracy: 0.9310\n",
            "Epoch 194/200\n",
            "2/2 [==============================] - 0s 12ms/step - loss: 0.0862 - accuracy: 0.9483\n",
            "Epoch 195/200\n",
            "2/2 [==============================] - 0s 11ms/step - loss: 0.0867 - accuracy: 0.9310\n",
            "Epoch 196/200\n",
            "2/2 [==============================] - 0s 12ms/step - loss: 0.0864 - accuracy: 0.9483\n",
            "Epoch 197/200\n",
            "2/2 [==============================] - 0s 12ms/step - loss: 0.0878 - accuracy: 0.9483\n",
            "Epoch 198/200\n",
            "2/2 [==============================] - 0s 12ms/step - loss: 0.0867 - accuracy: 0.9483\n",
            "Epoch 199/200\n",
            "2/2 [==============================] - 0s 14ms/step - loss: 0.0873 - accuracy: 0.9483\n",
            "Epoch 200/200\n",
            "2/2 [==============================] - 0s 11ms/step - loss: 0.0874 - accuracy: 0.9483\n"
          ]
        }
      ]
    },
    {
      "cell_type": "code",
      "source": [
        "import matplotlib.pylab as plt\n"
      ],
      "metadata": {
        "id": "D-nLHmeB8VBc"
      },
      "execution_count": null,
      "outputs": []
    },
    {
      "cell_type": "code",
      "source": [
        "# summarize history for accuracy\n",
        "plt.plot(history.history['accuracy'])\n",
        "plt.title('model accuracy')\n",
        "plt.ylabel('accuracy')\n",
        "plt.xlabel('epoch')\n",
        "plt.legend(['train', 'test'], loc='upper left')\n",
        "plt.show()\n"
      ],
      "metadata": {
        "colab": {
          "base_uri": "https://localhost:8080/",
          "height": 472
        },
        "id": "FhYP8AvZ8V5G",
        "outputId": "f8115059-4202-4631-ce11-e1731ebb1a13"
      },
      "execution_count": null,
      "outputs": [
        {
          "output_type": "display_data",
          "data": {
            "text/plain": [
              "<Figure size 640x480 with 1 Axes>"
            ],
            "image/png": "[encoded data removed]"
          },
          "metadata": {}
        }
      ]
    },
    {
      "cell_type": "code",
      "source": [
        "# summarize history for loss\n",
        "plt.plot(history.history['loss'])\n",
        "plt.title('model loss')\n",
        "plt.ylabel('loss')\n",
        "plt.xlabel('epoch')\n",
        "plt.legend(['train', 'test'], loc='upper left')\n",
        "plt.show()"
      ],
      "metadata": {
        "colab": {
          "base_uri": "https://localhost:8080/",
          "height": 472
        },
        "id": "bSjzsrv58ZLJ",
        "outputId": "d2ca6de0-75b9-41be-b431-56d678423b57"
      },
      "execution_count": null,
      "outputs": [
        {
          "output_type": "display_data",
          "data": {
            "text/plain": [
              "<Figure size 640x480 with 1 Axes>"
            ],
            "image/png": "[encoded data removed]"
          },
          "metadata": {}
        }
      ]
    },
    {
      "cell_type": "code",
      "metadata": {
        "colab": {
          "base_uri": "https://localhost:8080/"
        },
        "id": "o0AG7c7iS1y3",
        "outputId": "445ec4a3-bf34-4583-87af-18efca6fb13a"
      },
      "source": [
        "print(model.predict([\n",
        "  \"very good\",\n",
        "]))"
      ],
      "execution_count": null,
      "outputs": [
        {
          "output_type": "stream",
          "name": "stdout",
          "text": [
            "1/1 [==============================] - 1s 550ms/step\n",
            "[[0.9999938]]\n"
          ]
        }
      ]
    },
    {
      "cell_type": "code",
      "metadata": {
        "colab": {
          "base_uri": "https://localhost:8080/"
        },
        "id": "Xme1KPwtS7D2",
        "outputId": "0c33ba6e-6ae3-4ea0-be3d-fe92575a0419"
      },
      "source": [
        "print(model.predict([\n",
        "  \"very bad\",\n",
        "]))"
      ],
      "execution_count": null,
      "outputs": [
        {
          "output_type": "stream",
          "name": "stdout",
          "text": [
            "1/1 [==============================] - 0s 40ms/step\n",
            "[[0.00110578]]\n"
          ]
        }
      ]
    },
    {
      "cell_type": "code",
      "source": [
        "# First get the weights of the embedding layer\n",
        "e = model.layers[1]\n",
        "weights = e.get_weights()[0]\n",
        "print(weights.shape) # shape: (vocab_size, embedding_dim)"
      ],
      "metadata": {
        "colab": {
          "base_uri": "https://localhost:8080/"
        },
        "id": "f-iv9yas8cZo",
        "outputId": "59a3bb3c-dfc8-4888-d25d-56b03ae0bfc1"
      },
      "execution_count": null,
      "outputs": [
        {
          "output_type": "stream",
          "name": "stdout",
          "text": [
            "(21, 8)\n"
          ]
        }
      ]
    },
    {
      "cell_type": "markdown",
      "metadata": {
        "id": "KOAvtLlubRfO"
      },
      "source": [
        "# Embedding Layer Projector\n",
        "http://projector.tensorflow.org/"
      ]
    },
    {
      "cell_type": "code",
      "metadata": {
        "id": "U18O1IqfbYIp",
        "colab": {
          "base_uri": "https://localhost:8080/"
        },
        "outputId": "082d0fe3-6855-42e7-de4d-52d616841726"
      },
      "source": [
        "# First get the weights of the embedding layer\n",
        "e = model2.layers[1]\n",
        "weights = e.get_weights()[0]\n",
        "print(weights.shape) # shape: (vocab_size, embedding_dim)"
      ],
      "execution_count": null,
      "outputs": [
        {
          "output_type": "stream",
          "name": "stdout",
          "text": [
            "(21, 2)\n"
          ]
        }
      ]
    },
    {
      "cell_type": "code",
      "metadata": {
        "id": "LOuM3LIVS-gG"
      },
      "source": [
        "import io\n",
        "\n",
        "# Write out the embedding vectors and metadata\n",
        "out_v = io.open('vecs.tsv', 'w', encoding='utf-8')\n",
        "out_m = io.open('meta.tsv', 'w', encoding='utf-8')\n",
        "for word_num in range(1, max_tokens):\n",
        "  word = reverse_word_index[word_num]\n",
        "  embeddings = weights[word_num]\n",
        "  out_m.write(word + \"\\n\")\n",
        "  out_v.write('\\t'.join([str(x) for x in embeddings]) + \"\\n\")\n",
        "out_v.close()\n",
        "out_m.close()"
      ],
      "execution_count": null,
      "outputs": []
    },
    {
      "cell_type": "code",
      "metadata": {
        "colab": {
          "base_uri": "https://localhost:8080/",
          "height": 17
        },
        "id": "0iaieb2gbN5U",
        "outputId": "77d7e1e5-41ae-49ca-f1eb-f50a09e320c3"
      },
      "source": [
        "# Download the files\n",
        "try:\n",
        "  from google.colab import files\n",
        "except ImportError:\n",
        "  pass\n",
        "else:\n",
        "  files.download('vecs.tsv')\n",
        "  files.download('meta.tsv')"
      ],
      "execution_count": null,
      "outputs": [
        {
          "output_type": "display_data",
          "data": {
            "text/plain": [
              "<IPython.core.display.Javascript object>"
            ],
            "application/javascript": [
              "\n",
              "    async function download(id, filename, size) {\n",
              "      if (!google.colab.kernel.accessAllowed) {\n",
              "        return;\n",
              "      }\n",
              "      const div = document.createElement('div');\n",
              "      const label = document.createElement('label');\n",
              "      label.textContent = `Downloading \"${filename}\": `;\n",
              "      div.appendChild(label);\n",
              "      const progress = document.createElement('progress');\n",
              "      progress.max = size;\n",
              "      div.appendChild(progress);\n",
              "      document.body.appendChild(div);\n",
              "\n",
              "      const buffers = [];\n",
              "      let downloaded = 0;\n",
              "\n",
              "      const channel = await google.colab.kernel.comms.open(id);\n",
              "      // Send a message to notify the kernel that we're ready.\n",
              "      channel.send({})\n",
              "\n",
              "      for await (const message of channel.messages) {\n",
              "        // Send a message to notify the kernel that we're ready.\n",
              "        channel.send({})\n",
              "        if (message.buffers) {\n",
              "          for (const buffer of message.buffers) {\n",
              "            buffers.push(buffer);\n",
              "            downloaded += buffer.byteLength;\n",
              "            progress.value = downloaded;\n",
              "          }\n",
              "        }\n",
              "      }\n",
              "      const blob = new Blob(buffers, {type: 'application/binary'});\n",
              "      const a = document.createElement('a');\n",
              "      a.href = window.URL.createObjectURL(blob);\n",
              "      a.download = filename;\n",
              "      div.appendChild(a);\n",
              "      a.click();\n",
              "      div.remove();\n",
              "    }\n",
              "  "
            ]
          },
          "metadata": {}
        },
        {
          "output_type": "display_data",
          "data": {
            "text/plain": [
              "<IPython.core.display.Javascript object>"
            ],
            "application/javascript": [
              "download(\"download_5538f0af-44ab-49ba-ac1f-5a3d6f40d820\", \"vecs.tsv\", 453)"
            ]
          },
          "metadata": {}
        },
        {
          "output_type": "display_data",
          "data": {
            "text/plain": [
              "<IPython.core.display.Javascript object>"
            ],
            "application/javascript": [
              "\n",
              "    async function download(id, filename, size) {\n",
              "      if (!google.colab.kernel.accessAllowed) {\n",
              "        return;\n",
              "      }\n",
              "      const div = document.createElement('div');\n",
              "      const label = document.createElement('label');\n",
              "      label.textContent = `Downloading \"${filename}\": `;\n",
              "      div.appendChild(label);\n",
              "      const progress = document.createElement('progress');\n",
              "      progress.max = size;\n",
              "      div.appendChild(progress);\n",
              "      document.body.appendChild(div);\n",
              "\n",
              "      const buffers = [];\n",
              "      let downloaded = 0;\n",
              "\n",
              "      const channel = await google.colab.kernel.comms.open(id);\n",
              "      // Send a message to notify the kernel that we're ready.\n",
              "      channel.send({})\n",
              "\n",
              "      for await (const message of channel.messages) {\n",
              "        // Send a message to notify the kernel that we're ready.\n",
              "        channel.send({})\n",
              "        if (message.buffers) {\n",
              "          for (const buffer of message.buffers) {\n",
              "            buffers.push(buffer);\n",
              "            downloaded += buffer.byteLength;\n",
              "            progress.value = downloaded;\n",
              "          }\n",
              "        }\n",
              "      }\n",
              "      const blob = new Blob(buffers, {type: 'application/binary'});\n",
              "      const a = document.createElement('a');\n",
              "      a.href = window.URL.createObjectURL(blob);\n",
              "      a.download = filename;\n",
              "      div.appendChild(a);\n",
              "      a.click();\n",
              "      div.remove();\n",
              "    }\n",
              "  "
            ]
          },
          "metadata": {}
        },
        {
          "output_type": "display_data",
          "data": {
            "text/plain": [
              "<IPython.core.display.Javascript object>"
            ],
            "application/javascript": [
              "download(\"download_7d1d0fd0-32da-4df9-a56f-5c160a83c0d6\", \"meta.tsv\", 83)"
            ]
          },
          "metadata": {}
        }
      ]
    },
    {
      "cell_type": "code",
      "source": [
        "import numpy as np"
      ],
      "metadata": {
        "id": "4hlTvyIn5x8S"
      },
      "execution_count": null,
      "outputs": []
    },
    {
      "cell_type": "code",
      "source": [
        "# read from file in tsv format\n",
        "words = np.loadtxt('meta.tsv', skiprows=1, dtype=str)\n",
        "words"
      ],
      "metadata": {
        "colab": {
          "base_uri": "https://localhost:8080/"
        },
        "id": "swtpo5r-5iyu",
        "outputId": "d5206c00-f236-47f1-9228-7efda6253d9d"
      },
      "execution_count": null,
      "outputs": [
        {
          "output_type": "execute_result",
          "data": {
            "text/plain": [
              "array(['not', 'i', 'this', 'good', 'bad', 'am', 'very', 'happy', 'is',\n",
              "       'sad', 'was', 'earlier', 'right', 'now', 'at', 'all', 'and', 'or'],\n",
              "      dtype='<U7')"
            ]
          },
          "metadata": {},
          "execution_count": 76
        }
      ]
    },
    {
      "cell_type": "code",
      "source": [
        "# read vectors in tsv format\n",
        "vectors = np.loadtxt('vecs.tsv', skiprows=1)\n",
        "vectors"
      ],
      "metadata": {
        "colab": {
          "base_uri": "https://localhost:8080/"
        },
        "id": "ndakDGgA5kV_",
        "outputId": "f3f71233-ec5c-4b94-9048-a2c30bcc1bab"
      },
      "execution_count": null,
      "outputs": [
        {
          "output_type": "execute_result",
          "data": {
            "text/plain": [
              "array([[-0.01473167, -0.13065474],\n",
              "       [-0.02551565, -0.03296049],\n",
              "       [ 0.0031658 , -0.02508367],\n",
              "       [ 0.155573  ,  0.07048108],\n",
              "       [-0.22516355, -0.18878536],\n",
              "       [-0.07042287,  0.06317489],\n",
              "       [-0.0475463 ,  0.12941892],\n",
              "       [ 0.1424088 ,  0.06717036],\n",
              "       [-0.05015251,  0.01284518],\n",
              "       [-0.23660971, -0.20194748],\n",
              "       [ 0.12214474, -0.0567724 ],\n",
              "       [-0.04840029,  0.13140304],\n",
              "       [-0.2027274 , -0.0287927 ],\n",
              "       [-0.08701617, -0.07057603],\n",
              "       [ 0.18202819,  0.16929813],\n",
              "       [ 0.11304612,  0.15727626],\n",
              "       [-0.12467083,  0.0106765 ],\n",
              "       [-0.01859898,  0.04169625]])"
            ]
          },
          "metadata": {},
          "execution_count": 78
        }
      ]
    },
    {
      "cell_type": "code",
      "source": [
        "# plotly scatter plot with metadata as labels\n",
        "import plotly.express as px\n",
        "\n",
        "fig = px.scatter(x=vectors[:,0], y=vectors[:,1], labels={'x':'x', 'y':'y'}, hover_name=words)\n",
        "fig.show()"
      ],
      "metadata": {
        "colab": {
          "base_uri": "https://localhost:8080/",
          "height": 542
        },
        "id": "-3YEutUs5kYR",
        "outputId": "8695d42a-ea15-47ee-fbb4-4e431a43a3d8"
      },
      "execution_count": null,
      "outputs": [
        {
          "output_type": "display_data",
          "data": {
            "text/html": [
              "<html>\n",
              "<head><meta charset=\"utf-8\" /></head>\n",
              "<body>\n",
              "    <div>            <script src=\"https://cdnjs.cloudflare.com/ajax/libs/mathjax/2.7.5/MathJax.js?config=TeX-AMS-MML_SVG\"></script><script type=\"text/javascript\">if (window.MathJax && window.MathJax.Hub && window.MathJax.Hub.Config) {window.MathJax.Hub.Config({SVG: {font: \"STIX-Web\"}});}</script>                <script type=\"text/javascript\">window.PlotlyConfig = {MathJaxConfig: 'local'};</script>\n",
              "        <script charset=\"utf-8\" src=\"https://cdn.plot.ly/plotly-2.24.1.min.js\"></script>                <div id=\"75e2545d-3310-45a8-8b51-99f3d29d2c40\" class=\"plotly-graph-div\" style=\"height:525px; width:100%;\"></div>            <script type=\"text/javascript\">                                    window.PLOTLYENV=window.PLOTLYENV || {};                                    if (document.getElementById(\"75e2545d-3310-45a8-8b51-99f3d29d2c40\")) {                    Plotly.newPlot(                        \"75e2545d-3310-45a8-8b51-99f3d29d2c40\",                        [{\"hovertemplate\":\"\\u003cb\\u003e%{hovertext}\\u003c\\u002fb\\u003e\\u003cbr\\u003e\\u003cbr\\u003ex=%{x}\\u003cbr\\u003ey=%{y}\\u003cextra\\u003e\\u003c\\u002fextra\\u003e\",\"hovertext\":[\"not\",\"i\",\"this\",\"good\",\"bad\",\"am\",\"very\",\"happy\",\"is\",\"sad\",\"was\",\"earlier\",\"right\",\"now\",\"at\",\"all\",\"and\",\"or\"],\"legendgroup\":\"\",\"marker\":{\"color\":\"#636efa\",\"symbol\":\"circle\"},\"mode\":\"markers\",\"name\":\"\",\"orientation\":\"v\",\"showlegend\":false,\"x\":[-0.014731667,-0.025515648,0.0031658043,0.155573,-0.22516355,-0.07042287,-0.047546297,0.1424088,-0.05015251,-0.23660971,0.12214474,-0.048400287,-0.2027274,-0.087016165,0.18202819,0.113046125,-0.124670826,-0.018598985],\"xaxis\":\"x\",\"y\":[-0.13065474,-0.032960493,-0.025083665,0.070481084,-0.18878536,0.06317489,0.12941892,0.06717036,0.012845181,-0.20194748,-0.056772396,0.13140304,-0.0287927,-0.070576034,0.16929813,0.15727626,0.010676496,0.041696254],\"yaxis\":\"y\",\"type\":\"scatter\"}],                        {\"template\":{\"data\":{\"histogram2dcontour\":[{\"type\":\"histogram2dcontour\",\"colorbar\":{\"outlinewidth\":0,\"ticks\":\"\"},\"colorscale\":[[0.0,\"#0d0887\"],[0.1111111111111111,\"#46039f\"],[0.2222222222222222,\"#7201a8\"],[0.3333333333333333,\"#9c179e\"],[0.4444444444444444,\"#bd3786\"],[0.5555555555555556,\"#d8576b\"],[0.6666666666666666,\"#ed7953\"],[0.7777777777777778,\"#fb9f3a\"],[0.8888888888888888,\"#fdca26\"],[1.0,\"#f0f921\"]]}],\"choropleth\":[{\"type\":\"choropleth\",\"colorbar\":{\"outlinewidth\":0,\"ticks\":\"\"}}],\"histogram2d\":[{\"type\":\"histogram2d\",\"colorbar\":{\"outlinewidth\":0,\"ticks\":\"\"},\"colorscale\":[[0.0,\"#0d0887\"],[0.1111111111111111,\"#46039f\"],[0.2222222222222222,\"#7201a8\"],[0.3333333333333333,\"#9c179e\"],[0.4444444444444444,\"#bd3786\"],[0.5555555555555556,\"#d8576b\"],[0.6666666666666666,\"#ed7953\"],[0.7777777777777778,\"#fb9f3a\"],[0.8888888888888888,\"#fdca26\"],[1.0,\"#f0f921\"]]}],\"heatmap\":[{\"type\":\"heatmap\",\"colorbar\":{\"outlinewidth\":0,\"ticks\":\"\"},\"colorscale\":[[0.0,\"#0d0887\"],[0.1111111111111111,\"#46039f\"],[0.2222222222222222,\"#7201a8\"],[0.3333333333333333,\"#9c179e\"],[0.4444444444444444,\"#bd3786\"],[0.5555555555555556,\"#d8576b\"],[0.6666666666666666,\"#ed7953\"],[0.7777777777777778,\"#fb9f3a\"],[0.8888888888888888,\"#fdca26\"],[1.0,\"#f0f921\"]]}],\"heatmapgl\":[{\"type\":\"heatmapgl\",\"colorbar\":{\"outlinewidth\":0,\"ticks\":\"\"},\"colorscale\":[[0.0,\"#0d0887\"],[0.1111111111111111,\"#46039f\"],[0.2222222222222222,\"#7201a8\"],[0.3333333333333333,\"#9c179e\"],[0.4444444444444444,\"#bd3786\"],[0.5555555555555556,\"#d8576b\"],[0.6666666666666666,\"#ed7953\"],[0.7777777777777778,\"#fb9f3a\"],[0.8888888888888888,\"#fdca26\"],[1.0,\"#f0f921\"]]}],\"contourcarpet\":[{\"type\":\"contourcarpet\",\"colorbar\":{\"outlinewidth\":0,\"ticks\":\"\"}}],\"contour\":[{\"type\":\"contour\",\"colorbar\":{\"outlinewidth\":0,\"ticks\":\"\"},\"colorscale\":[[0.0,\"#0d0887\"],[0.1111111111111111,\"#46039f\"],[0.2222222222222222,\"#7201a8\"],[0.3333333333333333,\"#9c179e\"],[0.4444444444444444,\"#bd3786\"],[0.5555555555555556,\"#d8576b\"],[0.6666666666666666,\"#ed7953\"],[0.7777777777777778,\"#fb9f3a\"],[0.8888888888888888,\"#fdca26\"],[1.0,\"#f0f921\"]]}],\"surface\":[{\"type\":\"surface\",\"colorbar\":{\"outlinewidth\":0,\"ticks\":\"\"},\"colorscale\":[[0.0,\"#0d0887\"],[0.1111111111111111,\"#46039f\"],[0.2222222222222222,\"#7201a8\"],[0.3333333333333333,\"#9c179e\"],[0.4444444444444444,\"#bd3786\"],[0.5555555555555556,\"#d8576b\"],[0.6666666666666666,\"#ed7953\"],[0.7777777777777778,\"#fb9f3a\"],[0.8888888888888888,\"#fdca26\"],[1.0,\"#f0f921\"]]}],\"mesh3d\":[{\"type\":\"mesh3d\",\"colorbar\":{\"outlinewidth\":0,\"ticks\":\"\"}}],\"scatter\":[{\"fillpattern\":{\"fillmode\":\"overlay\",\"size\":10,\"solidity\":0.2},\"type\":\"scatter\"}],\"parcoords\":[{\"type\":\"parcoords\",\"line\":{\"colorbar\":{\"outlinewidth\":0,\"ticks\":\"\"}}}],\"scatterpolargl\":[{\"type\":\"scatterpolargl\",\"marker\":{\"colorbar\":{\"outlinewidth\":0,\"ticks\":\"\"}}}],\"bar\":[{\"error_x\":{\"color\":\"#2a3f5f\"},\"error_y\":{\"color\":\"#2a3f5f\"},\"marker\":{\"line\":{\"color\":\"#E5ECF6\",\"width\":0.5},\"pattern\":{\"fillmode\":\"overlay\",\"size\":10,\"solidity\":0.2}},\"type\":\"bar\"}],\"scattergeo\":[{\"type\":\"scattergeo\",\"marker\":{\"colorbar\":{\"outlinewidth\":0,\"ticks\":\"\"}}}],\"scatterpolar\":[{\"type\":\"scatterpolar\",\"marker\":{\"colorbar\":{\"outlinewidth\":0,\"ticks\":\"\"}}}],\"histogram\":[{\"marker\":{\"pattern\":{\"fillmode\":\"overlay\",\"size\":10,\"solidity\":0.2}},\"type\":\"histogram\"}],\"scattergl\":[{\"type\":\"scattergl\",\"marker\":{\"colorbar\":{\"outlinewidth\":0,\"ticks\":\"\"}}}],\"scatter3d\":[{\"type\":\"scatter3d\",\"line\":{\"colorbar\":{\"outlinewidth\":0,\"ticks\":\"\"}},\"marker\":{\"colorbar\":{\"outlinewidth\":0,\"ticks\":\"\"}}}],\"scattermapbox\":[{\"type\":\"scattermapbox\",\"marker\":{\"colorbar\":{\"outlinewidth\":0,\"ticks\":\"\"}}}],\"scatterternary\":[{\"type\":\"scatterternary\",\"marker\":{\"colorbar\":{\"outlinewidth\":0,\"ticks\":\"\"}}}],\"scattercarpet\":[{\"type\":\"scattercarpet\",\"marker\":{\"colorbar\":{\"outlinewidth\":0,\"ticks\":\"\"}}}],\"carpet\":[{\"aaxis\":{\"endlinecolor\":\"#2a3f5f\",\"gridcolor\":\"white\",\"linecolor\":\"white\",\"minorgridcolor\":\"white\",\"startlinecolor\":\"#2a3f5f\"},\"baxis\":{\"endlinecolor\":\"#2a3f5f\",\"gridcolor\":\"white\",\"linecolor\":\"white\",\"minorgridcolor\":\"white\",\"startlinecolor\":\"#2a3f5f\"},\"type\":\"carpet\"}],\"table\":[{\"cells\":{\"fill\":{\"color\":\"#EBF0F8\"},\"line\":{\"color\":\"white\"}},\"header\":{\"fill\":{\"color\":\"#C8D4E3\"},\"line\":{\"color\":\"white\"}},\"type\":\"table\"}],\"barpolar\":[{\"marker\":{\"line\":{\"color\":\"#E5ECF6\",\"width\":0.5},\"pattern\":{\"fillmode\":\"overlay\",\"size\":10,\"solidity\":0.2}},\"type\":\"barpolar\"}],\"pie\":[{\"automargin\":true,\"type\":\"pie\"}]},\"layout\":{\"autotypenumbers\":\"strict\",\"colorway\":[\"#636efa\",\"#EF553B\",\"#00cc96\",\"#ab63fa\",\"#FFA15A\",\"#19d3f3\",\"#FF6692\",\"#B6E880\",\"#FF97FF\",\"#FECB52\"],\"font\":{\"color\":\"#2a3f5f\"},\"hovermode\":\"closest\",\"hoverlabel\":{\"align\":\"left\"},\"paper_bgcolor\":\"white\",\"plot_bgcolor\":\"#E5ECF6\",\"polar\":{\"bgcolor\":\"#E5ECF6\",\"angularaxis\":{\"gridcolor\":\"white\",\"linecolor\":\"white\",\"ticks\":\"\"},\"radialaxis\":{\"gridcolor\":\"white\",\"linecolor\":\"white\",\"ticks\":\"\"}},\"ternary\":{\"bgcolor\":\"#E5ECF6\",\"aaxis\":{\"gridcolor\":\"white\",\"linecolor\":\"white\",\"ticks\":\"\"},\"baxis\":{\"gridcolor\":\"white\",\"linecolor\":\"white\",\"ticks\":\"\"},\"caxis\":{\"gridcolor\":\"white\",\"linecolor\":\"white\",\"ticks\":\"\"}},\"coloraxis\":{\"colorbar\":{\"outlinewidth\":0,\"ticks\":\"\"}},\"colorscale\":{\"sequential\":[[0.0,\"#0d0887\"],[0.1111111111111111,\"#46039f\"],[0.2222222222222222,\"#7201a8\"],[0.3333333333333333,\"#9c179e\"],[0.4444444444444444,\"#bd3786\"],[0.5555555555555556,\"#d8576b\"],[0.6666666666666666,\"#ed7953\"],[0.7777777777777778,\"#fb9f3a\"],[0.8888888888888888,\"#fdca26\"],[1.0,\"#f0f921\"]],\"sequentialminus\":[[0.0,\"#0d0887\"],[0.1111111111111111,\"#46039f\"],[0.2222222222222222,\"#7201a8\"],[0.3333333333333333,\"#9c179e\"],[0.4444444444444444,\"#bd3786\"],[0.5555555555555556,\"#d8576b\"],[0.6666666666666666,\"#ed7953\"],[0.7777777777777778,\"#fb9f3a\"],[0.8888888888888888,\"#fdca26\"],[1.0,\"#f0f921\"]],\"diverging\":[[0,\"#8e0152\"],[0.1,\"#c51b7d\"],[0.2,\"#de77ae\"],[0.3,\"#f1b6da\"],[0.4,\"#fde0ef\"],[0.5,\"#f7f7f7\"],[0.6,\"#e6f5d0\"],[0.7,\"#b8e186\"],[0.8,\"#7fbc41\"],[0.9,\"#4d9221\"],[1,\"#276419\"]]},\"xaxis\":{\"gridcolor\":\"white\",\"linecolor\":\"white\",\"ticks\":\"\",\"title\":{\"standoff\":15},\"zerolinecolor\":\"white\",\"automargin\":true,\"zerolinewidth\":2},\"yaxis\":{\"gridcolor\":\"white\",\"linecolor\":\"white\",\"ticks\":\"\",\"title\":{\"standoff\":15},\"zerolinecolor\":\"white\",\"automargin\":true,\"zerolinewidth\":2},\"scene\":{\"xaxis\":{\"backgroundcolor\":\"#E5ECF6\",\"gridcolor\":\"white\",\"linecolor\":\"white\",\"showbackground\":true,\"ticks\":\"\",\"zerolinecolor\":\"white\",\"gridwidth\":2},\"yaxis\":{\"backgroundcolor\":\"#E5ECF6\",\"gridcolor\":\"white\",\"linecolor\":\"white\",\"showbackground\":true,\"ticks\":\"\",\"zerolinecolor\":\"white\",\"gridwidth\":2},\"zaxis\":{\"backgroundcolor\":\"#E5ECF6\",\"gridcolor\":\"white\",\"linecolor\":\"white\",\"showbackground\":true,\"ticks\":\"\",\"zerolinecolor\":\"white\",\"gridwidth\":2}},\"shapedefaults\":{\"line\":{\"color\":\"#2a3f5f\"}},\"annotationdefaults\":{\"arrowcolor\":\"#2a3f5f\",\"arrowhead\":0,\"arrowwidth\":1},\"geo\":{\"bgcolor\":\"white\",\"landcolor\":\"#E5ECF6\",\"subunitcolor\":\"white\",\"showland\":true,\"showlakes\":true,\"lakecolor\":\"white\"},\"title\":{\"x\":0.05},\"mapbox\":{\"style\":\"light\"}}},\"xaxis\":{\"anchor\":\"y\",\"domain\":[0.0,1.0],\"title\":{\"text\":\"x\"}},\"yaxis\":{\"anchor\":\"x\",\"domain\":[0.0,1.0],\"title\":{\"text\":\"y\"}},\"legend\":{\"tracegroupgap\":0},\"margin\":{\"t\":60}},                        {\"responsive\": true}                    ).then(function(){\n",
              "                            \n",
              "var gd = document.getElementById('75e2545d-3310-45a8-8b51-99f3d29d2c40');\n",
              "var x = new MutationObserver(function (mutations, observer) {{\n",
              "        var display = window.getComputedStyle(gd).display;\n",
              "        if (!display || display === 'none') {{\n",
              "            console.log([gd, 'removed!']);\n",
              "            Plotly.purge(gd);\n",
              "            observer.disconnect();\n",
              "        }}\n",
              "}});\n",
              "\n",
              "// Listen for the removal of the full notebook cells\n",
              "var notebookContainer = gd.closest('#notebook-container');\n",
              "if (notebookContainer) {{\n",
              "    x.observe(notebookContainer, {childList: true});\n",
              "}}\n",
              "\n",
              "// Listen for the clearing of the current output cell\n",
              "var outputEl = gd.closest('.output');\n",
              "if (outputEl) {{\n",
              "    x.observe(outputEl, {childList: true});\n",
              "}}\n",
              "\n",
              "                        })                };                            </script>        </div>\n",
              "</body>\n",
              "</html>"
            ]
          },
          "metadata": {}
        }
      ]
    },
    {
      "cell_type": "code",
      "metadata": {
        "id": "HfK25Tk9bUPq",
        "colab": {
          "base_uri": "https://localhost:8080/"
        },
        "outputId": "47c05392-3aaf-43eb-a924-352786c9a6a2"
      },
      "source": [
        "model2 = Sequential()\n",
        "model2.add(Input(shape=(1,), dtype=\"string\"))\n",
        "model2.add(vectorize_layer)\n",
        "model2.add(Embedding(max_tokens + 1, 2))\n",
        "model2.add(SimpleRNN(16, return_sequences=True))\n",
        "model2.add(SimpleRNN(16))\n",
        "model2.add(Dense(16, activation=\"relu\"))\n",
        "model2.add(Dense(1, activation=\"sigmoid\"))\n",
        "model2.summary()"
      ],
      "execution_count": null,
      "outputs": [
        {
          "output_type": "stream",
          "name": "stdout",
          "text": [
            "Model: \"sequential_11\"\n",
            "_________________________________________________________________\n",
            " Layer (type)                Output Shape              Param #   \n",
            "=================================================================\n",
            " text_vectorization_5 (Text  (None, 5)                 0         \n",
            " Vectorization)                                                  \n",
            "                                                                 \n",
            " embedding_10 (Embedding)    (None, 5, 2)              42        \n",
            "                                                                 \n",
            " simple_rnn_21 (SimpleRNN)   (None, 5, 16)             304       \n",
            "                                                                 \n",
            " simple_rnn_22 (SimpleRNN)   (None, 16)                528       \n",
            "                                                                 \n",
            " dense_12 (Dense)            (None, 16)                272       \n",
            "                                                                 \n",
            " dense_13 (Dense)            (None, 1)                 17        \n",
            "                                                                 \n",
            "=================================================================\n",
            "Total params: 1163 (4.54 KB)\n",
            "Trainable params: 1163 (4.54 KB)\n",
            "Non-trainable params: 0 (0.00 Byte)\n",
            "_________________________________________________________________\n"
          ]
        }
      ]
    },
    {
      "cell_type": "code",
      "metadata": {
        "id": "IuIWPj2Ij-X1"
      },
      "source": [
        "model2.compile(\n",
        "  optimizer='adam',\n",
        "  loss='binary_crossentropy',\n",
        "  metrics=['accuracy'],\n",
        ")"
      ],
      "execution_count": null,
      "outputs": []
    },
    {
      "cell_type": "code",
      "metadata": {
        "colab": {
          "base_uri": "https://localhost:8080/"
        },
        "id": "c1ZZjSzckMJs",
        "outputId": "09a6a19d-520c-41ed-a395-8e85caa1ed84"
      },
      "source": [
        "history = model2.fit(X_train, y_train, epochs=200)\n"
      ],
      "execution_count": null,
      "outputs": [
        {
          "output_type": "stream",
          "name": "stdout",
          "text": [
            "Epoch 1/200\n",
            "2/2 [==============================] - 3s 12ms/step - loss: 0.6930 - accuracy: 0.5690\n",
            "Epoch 2/200\n",
            "2/2 [==============================] - 0s 10ms/step - loss: 0.6910 - accuracy: 0.6034\n",
            "Epoch 3/200\n",
            "2/2 [==============================] - 0s 12ms/step - loss: 0.6889 - accuracy: 0.5862\n",
            "Epoch 4/200\n",
            "2/2 [==============================] - 0s 12ms/step - loss: 0.6870 - accuracy: 0.5862\n",
            "Epoch 5/200\n",
            "2/2 [==============================] - 0s 13ms/step - loss: 0.6853 - accuracy: 0.5517\n",
            "Epoch 6/200\n",
            "2/2 [==============================] - 0s 12ms/step - loss: 0.6828 - accuracy: 0.5517\n",
            "Epoch 7/200\n",
            "2/2 [==============================] - 0s 12ms/step - loss: 0.6807 - accuracy: 0.5517\n",
            "Epoch 8/200\n",
            "2/2 [==============================] - 0s 13ms/step - loss: 0.6782 - accuracy: 0.5517\n",
            "Epoch 9/200\n",
            "2/2 [==============================] - 0s 11ms/step - loss: 0.6750 - accuracy: 0.5517\n",
            "Epoch 10/200\n",
            "2/2 [==============================] - 0s 12ms/step - loss: 0.6715 - accuracy: 0.5517\n",
            "Epoch 11/200\n",
            "2/2 [==============================] - 0s 26ms/step - loss: 0.6681 - accuracy: 0.5690\n",
            "Epoch 12/200\n",
            "2/2 [==============================] - 0s 12ms/step - loss: 0.6640 - accuracy: 0.5862\n",
            "Epoch 13/200\n",
            "2/2 [==============================] - 0s 12ms/step - loss: 0.6607 - accuracy: 0.5862\n",
            "Epoch 14/200\n",
            "2/2 [==============================] - 0s 12ms/step - loss: 0.6580 - accuracy: 0.5862\n",
            "Epoch 15/200\n",
            "2/2 [==============================] - 0s 15ms/step - loss: 0.6542 - accuracy: 0.5862\n",
            "Epoch 16/200\n",
            "2/2 [==============================] - 0s 11ms/step - loss: 0.6484 - accuracy: 0.5862\n",
            "Epoch 17/200\n",
            "2/2 [==============================] - 0s 12ms/step - loss: 0.6437 - accuracy: 0.6207\n",
            "Epoch 18/200\n",
            "2/2 [==============================] - 0s 14ms/step - loss: 0.6388 - accuracy: 0.6552\n",
            "Epoch 19/200\n",
            "2/2 [==============================] - 0s 12ms/step - loss: 0.6341 - accuracy: 0.7069\n",
            "Epoch 20/200\n",
            "2/2 [==============================] - 0s 14ms/step - loss: 0.6285 - accuracy: 0.7414\n",
            "Epoch 21/200\n",
            "2/2 [==============================] - 0s 12ms/step - loss: 0.6222 - accuracy: 0.7414\n",
            "Epoch 22/200\n",
            "2/2 [==============================] - 0s 12ms/step - loss: 0.6167 - accuracy: 0.7414\n",
            "Epoch 23/200\n",
            "2/2 [==============================] - 0s 11ms/step - loss: 0.6107 - accuracy: 0.7414\n",
            "Epoch 24/200\n",
            "2/2 [==============================] - 0s 12ms/step - loss: 0.6038 - accuracy: 0.7414\n",
            "Epoch 25/200\n",
            "2/2 [==============================] - 0s 15ms/step - loss: 0.5976 - accuracy: 0.7414\n",
            "Epoch 26/200\n",
            "2/2 [==============================] - 0s 11ms/step - loss: 0.5930 - accuracy: 0.7414\n",
            "Epoch 27/200\n",
            "2/2 [==============================] - 0s 11ms/step - loss: 0.5842 - accuracy: 0.7414\n",
            "Epoch 28/200\n",
            "2/2 [==============================] - 0s 11ms/step - loss: 0.5777 - accuracy: 0.7414\n",
            "Epoch 29/200\n",
            "2/2 [==============================] - 0s 12ms/step - loss: 0.5714 - accuracy: 0.7414\n",
            "Epoch 30/200\n",
            "2/2 [==============================] - 0s 11ms/step - loss: 0.5648 - accuracy: 0.7414\n",
            "Epoch 31/200\n",
            "2/2 [==============================] - 0s 11ms/step - loss: 0.5591 - accuracy: 0.7586\n",
            "Epoch 32/200\n",
            "2/2 [==============================] - 0s 13ms/step - loss: 0.5512 - accuracy: 0.7586\n",
            "Epoch 33/200\n",
            "2/2 [==============================] - 0s 13ms/step - loss: 0.5445 - accuracy: 0.7759\n",
            "Epoch 34/200\n",
            "2/2 [==============================] - 0s 11ms/step - loss: 0.5388 - accuracy: 0.7414\n",
            "Epoch 35/200\n",
            "2/2 [==============================] - 0s 16ms/step - loss: 0.5316 - accuracy: 0.7414\n",
            "Epoch 36/200\n",
            "2/2 [==============================] - 0s 14ms/step - loss: 0.5255 - accuracy: 0.7759\n",
            "Epoch 37/200\n",
            "2/2 [==============================] - 0s 14ms/step - loss: 0.5177 - accuracy: 0.8276\n",
            "Epoch 38/200\n",
            "2/2 [==============================] - 0s 13ms/step - loss: 0.5115 - accuracy: 0.8276\n",
            "Epoch 39/200\n",
            "2/2 [==============================] - 0s 12ms/step - loss: 0.5048 - accuracy: 0.8276\n",
            "Epoch 40/200\n",
            "2/2 [==============================] - 0s 11ms/step - loss: 0.4977 - accuracy: 0.8276\n",
            "Epoch 41/200\n",
            "2/2 [==============================] - 0s 11ms/step - loss: 0.4924 - accuracy: 0.8276\n",
            "Epoch 42/200\n",
            "2/2 [==============================] - 0s 12ms/step - loss: 0.4849 - accuracy: 0.8276\n",
            "Epoch 43/200\n",
            "2/2 [==============================] - 0s 14ms/step - loss: 0.4775 - accuracy: 0.8793\n",
            "Epoch 44/200\n",
            "2/2 [==============================] - 0s 12ms/step - loss: 0.4734 - accuracy: 0.8793\n",
            "Epoch 45/200\n",
            "2/2 [==============================] - 0s 13ms/step - loss: 0.4660 - accuracy: 0.8793\n",
            "Epoch 46/200\n",
            "2/2 [==============================] - 0s 14ms/step - loss: 0.4603 - accuracy: 0.8793\n",
            "Epoch 47/200\n",
            "2/2 [==============================] - 0s 13ms/step - loss: 0.4540 - accuracy: 0.8448\n",
            "Epoch 48/200\n",
            "2/2 [==============================] - 0s 11ms/step - loss: 0.4504 - accuracy: 0.8448\n",
            "Epoch 49/200\n",
            "2/2 [==============================] - 0s 12ms/step - loss: 0.4436 - accuracy: 0.8793\n",
            "Epoch 50/200\n",
            "2/2 [==============================] - 0s 11ms/step - loss: 0.4385 - accuracy: 0.8793\n",
            "Epoch 51/200\n",
            "2/2 [==============================] - 0s 12ms/step - loss: 0.4346 - accuracy: 0.8793\n",
            "Epoch 52/200\n",
            "2/2 [==============================] - 0s 12ms/step - loss: 0.4303 - accuracy: 0.8793\n",
            "Epoch 53/200\n",
            "2/2 [==============================] - 0s 11ms/step - loss: 0.4250 - accuracy: 0.8448\n",
            "Epoch 54/200\n",
            "2/2 [==============================] - 0s 14ms/step - loss: 0.4196 - accuracy: 0.8448\n",
            "Epoch 55/200\n",
            "2/2 [==============================] - 0s 12ms/step - loss: 0.4148 - accuracy: 0.8448\n",
            "Epoch 56/200\n",
            "2/2 [==============================] - 0s 12ms/step - loss: 0.4124 - accuracy: 0.8793\n",
            "Epoch 57/200\n",
            "2/2 [==============================] - 0s 11ms/step - loss: 0.4081 - accuracy: 0.8793\n",
            "Epoch 58/200\n",
            "2/2 [==============================] - 0s 11ms/step - loss: 0.4029 - accuracy: 0.8793\n",
            "Epoch 59/200\n",
            "2/2 [==============================] - 0s 11ms/step - loss: 0.4018 - accuracy: 0.8793\n",
            "Epoch 60/200\n",
            "2/2 [==============================] - 0s 12ms/step - loss: 0.3939 - accuracy: 0.8793\n",
            "Epoch 61/200\n",
            "2/2 [==============================] - 0s 13ms/step - loss: 0.3929 - accuracy: 0.8793\n",
            "Epoch 62/200\n",
            "2/2 [==============================] - 0s 16ms/step - loss: 0.3878 - accuracy: 0.8793\n",
            "Epoch 63/200\n",
            "2/2 [==============================] - 0s 11ms/step - loss: 0.3850 - accuracy: 0.8793\n",
            "Epoch 64/200\n",
            "2/2 [==============================] - 0s 13ms/step - loss: 0.3805 - accuracy: 0.8793\n",
            "Epoch 65/200\n",
            "2/2 [==============================] - 0s 13ms/step - loss: 0.3792 - accuracy: 0.8793\n",
            "Epoch 66/200\n",
            "2/2 [==============================] - 0s 11ms/step - loss: 0.3757 - accuracy: 0.8448\n",
            "Epoch 67/200\n",
            "2/2 [==============================] - 0s 13ms/step - loss: 0.3712 - accuracy: 0.8448\n",
            "Epoch 68/200\n",
            "2/2 [==============================] - 0s 12ms/step - loss: 0.3675 - accuracy: 0.8621\n",
            "Epoch 69/200\n",
            "2/2 [==============================] - 0s 13ms/step - loss: 0.3658 - accuracy: 0.8448\n",
            "Epoch 70/200\n",
            "2/2 [==============================] - 0s 13ms/step - loss: 0.3612 - accuracy: 0.8448\n",
            "Epoch 71/200\n",
            "2/2 [==============================] - 0s 12ms/step - loss: 0.3584 - accuracy: 0.8448\n",
            "Epoch 72/200\n",
            "2/2 [==============================] - 0s 12ms/step - loss: 0.3557 - accuracy: 0.8621\n",
            "Epoch 73/200\n",
            "2/2 [==============================] - 0s 12ms/step - loss: 0.3537 - accuracy: 0.8448\n",
            "Epoch 74/200\n",
            "2/2 [==============================] - 0s 12ms/step - loss: 0.3480 - accuracy: 0.8448\n",
            "Epoch 75/200\n",
            "2/2 [==============================] - 0s 11ms/step - loss: 0.3460 - accuracy: 0.8621\n",
            "Epoch 76/200\n",
            "2/2 [==============================] - 0s 12ms/step - loss: 0.3425 - accuracy: 0.8621\n",
            "Epoch 77/200\n",
            "2/2 [==============================] - 0s 12ms/step - loss: 0.3390 - accuracy: 0.8621\n",
            "Epoch 78/200\n",
            "2/2 [==============================] - 0s 11ms/step - loss: 0.3367 - accuracy: 0.8448\n",
            "Epoch 79/200\n",
            "2/2 [==============================] - 0s 12ms/step - loss: 0.3355 - accuracy: 0.8621\n",
            "Epoch 80/200\n",
            "2/2 [==============================] - 0s 12ms/step - loss: 0.3315 - accuracy: 0.8621\n",
            "Epoch 81/200\n",
            "2/2 [==============================] - 0s 13ms/step - loss: 0.3288 - accuracy: 0.8793\n",
            "Epoch 82/200\n",
            "2/2 [==============================] - 0s 17ms/step - loss: 0.3254 - accuracy: 0.8793\n",
            "Epoch 83/200\n",
            "2/2 [==============================] - 0s 12ms/step - loss: 0.3226 - accuracy: 0.8793\n",
            "Epoch 84/200\n",
            "2/2 [==============================] - 0s 14ms/step - loss: 0.3258 - accuracy: 0.8621\n",
            "Epoch 85/200\n",
            "2/2 [==============================] - 0s 15ms/step - loss: 0.3169 - accuracy: 0.8793\n",
            "Epoch 86/200\n",
            "2/2 [==============================] - 0s 13ms/step - loss: 0.3142 - accuracy: 0.8793\n",
            "Epoch 87/200\n",
            "2/2 [==============================] - 0s 15ms/step - loss: 0.3126 - accuracy: 0.8793\n",
            "Epoch 88/200\n",
            "2/2 [==============================] - 0s 12ms/step - loss: 0.3106 - accuracy: 0.8793\n",
            "Epoch 89/200\n",
            "2/2 [==============================] - 0s 12ms/step - loss: 0.3063 - accuracy: 0.8793\n",
            "Epoch 90/200\n",
            "2/2 [==============================] - 0s 12ms/step - loss: 0.3037 - accuracy: 0.8793\n",
            "Epoch 91/200\n",
            "2/2 [==============================] - 0s 13ms/step - loss: 0.3019 - accuracy: 0.8966\n",
            "Epoch 92/200\n",
            "2/2 [==============================] - 0s 14ms/step - loss: 0.3000 - accuracy: 0.9138\n",
            "Epoch 93/200\n",
            "2/2 [==============================] - 0s 15ms/step - loss: 0.2968 - accuracy: 0.8793\n",
            "Epoch 94/200\n",
            "2/2 [==============================] - 0s 13ms/step - loss: 0.2935 - accuracy: 0.8793\n",
            "Epoch 95/200\n",
            "2/2 [==============================] - 0s 14ms/step - loss: 0.2909 - accuracy: 0.8966\n",
            "Epoch 96/200\n",
            "2/2 [==============================] - 0s 14ms/step - loss: 0.2971 - accuracy: 0.8793\n",
            "Epoch 97/200\n",
            "2/2 [==============================] - 0s 13ms/step - loss: 0.2862 - accuracy: 0.8793\n",
            "Epoch 98/200\n",
            "2/2 [==============================] - 0s 26ms/step - loss: 0.2929 - accuracy: 0.9138\n",
            "Epoch 99/200\n",
            "2/2 [==============================] - 0s 13ms/step - loss: 0.2838 - accuracy: 0.9138\n",
            "Epoch 100/200\n",
            "2/2 [==============================] - 0s 13ms/step - loss: 0.2783 - accuracy: 0.9138\n",
            "Epoch 101/200\n",
            "2/2 [==============================] - 0s 12ms/step - loss: 0.2782 - accuracy: 0.9138\n",
            "Epoch 102/200\n",
            "2/2 [==============================] - 0s 11ms/step - loss: 0.2811 - accuracy: 0.8966\n",
            "Epoch 103/200\n",
            "2/2 [==============================] - 0s 13ms/step - loss: 0.2762 - accuracy: 0.9138\n",
            "Epoch 104/200\n",
            "2/2 [==============================] - 0s 14ms/step - loss: 0.2716 - accuracy: 0.9138\n",
            "Epoch 105/200\n",
            "2/2 [==============================] - 0s 13ms/step - loss: 0.2696 - accuracy: 0.9138\n",
            "Epoch 106/200\n",
            "2/2 [==============================] - 0s 13ms/step - loss: 0.2678 - accuracy: 0.9138\n",
            "Epoch 107/200\n",
            "2/2 [==============================] - 0s 12ms/step - loss: 0.2640 - accuracy: 0.9138\n",
            "Epoch 108/200\n",
            "2/2 [==============================] - 0s 13ms/step - loss: 0.2614 - accuracy: 0.9138\n",
            "Epoch 109/200\n",
            "2/2 [==============================] - 0s 12ms/step - loss: 0.2597 - accuracy: 0.9138\n",
            "Epoch 110/200\n",
            "2/2 [==============================] - 0s 13ms/step - loss: 0.2579 - accuracy: 0.9138\n",
            "Epoch 111/200\n",
            "2/2 [==============================] - 0s 12ms/step - loss: 0.2567 - accuracy: 0.9138\n",
            "Epoch 112/200\n",
            "2/2 [==============================] - 0s 12ms/step - loss: 0.2539 - accuracy: 0.9138\n",
            "Epoch 113/200\n",
            "2/2 [==============================] - 0s 12ms/step - loss: 0.2511 - accuracy: 0.9138\n",
            "Epoch 114/200\n",
            "2/2 [==============================] - 0s 12ms/step - loss: 0.2498 - accuracy: 0.9138\n",
            "Epoch 115/200\n",
            "2/2 [==============================] - 0s 15ms/step - loss: 0.2469 - accuracy: 0.9138\n",
            "Epoch 116/200\n",
            "2/2 [==============================] - 0s 14ms/step - loss: 0.2453 - accuracy: 0.9138\n",
            "Epoch 117/200\n",
            "2/2 [==============================] - 0s 12ms/step - loss: 0.2437 - accuracy: 0.9138\n",
            "Epoch 118/200\n",
            "2/2 [==============================] - 0s 11ms/step - loss: 0.2431 - accuracy: 0.9138\n",
            "Epoch 119/200\n",
            "2/2 [==============================] - 0s 13ms/step - loss: 0.2419 - accuracy: 0.9138\n",
            "Epoch 120/200\n",
            "2/2 [==============================] - 0s 11ms/step - loss: 0.2371 - accuracy: 0.9138\n",
            "Epoch 121/200\n",
            "2/2 [==============================] - 0s 14ms/step - loss: 0.2367 - accuracy: 0.9138\n",
            "Epoch 122/200\n",
            "2/2 [==============================] - 0s 12ms/step - loss: 0.2352 - accuracy: 0.9138\n",
            "Epoch 123/200\n",
            "2/2 [==============================] - 0s 12ms/step - loss: 0.2335 - accuracy: 0.9138\n",
            "Epoch 124/200\n",
            "2/2 [==============================] - 0s 13ms/step - loss: 0.2304 - accuracy: 0.9138\n",
            "Epoch 125/200\n",
            "2/2 [==============================] - 0s 14ms/step - loss: 0.2279 - accuracy: 0.9138\n",
            "Epoch 126/200\n",
            "2/2 [==============================] - 0s 13ms/step - loss: 0.2333 - accuracy: 0.9138\n",
            "Epoch 127/200\n",
            "2/2 [==============================] - 0s 17ms/step - loss: 0.2256 - accuracy: 0.9138\n",
            "Epoch 128/200\n",
            "2/2 [==============================] - 0s 12ms/step - loss: 0.2290 - accuracy: 0.9138\n",
            "Epoch 129/200\n",
            "2/2 [==============================] - 0s 13ms/step - loss: 0.2238 - accuracy: 0.9138\n",
            "Epoch 130/200\n",
            "2/2 [==============================] - 0s 12ms/step - loss: 0.2214 - accuracy: 0.9138\n",
            "Epoch 131/200\n",
            "2/2 [==============================] - 0s 15ms/step - loss: 0.2173 - accuracy: 0.9138\n",
            "Epoch 132/200\n",
            "2/2 [==============================] - 0s 12ms/step - loss: 0.2176 - accuracy: 0.9310\n",
            "Epoch 133/200\n",
            "2/2 [==============================] - 0s 16ms/step - loss: 0.2168 - accuracy: 0.9138\n",
            "Epoch 134/200\n",
            "2/2 [==============================] - 0s 12ms/step - loss: 0.2124 - accuracy: 0.9138\n",
            "Epoch 135/200\n",
            "2/2 [==============================] - 0s 13ms/step - loss: 0.2104 - accuracy: 0.9138\n",
            "Epoch 136/200\n",
            "2/2 [==============================] - 0s 12ms/step - loss: 0.2120 - accuracy: 0.9138\n",
            "Epoch 137/200\n",
            "2/2 [==============================] - 0s 13ms/step - loss: 0.2141 - accuracy: 0.9138\n",
            "Epoch 138/200\n",
            "2/2 [==============================] - 0s 14ms/step - loss: 0.2069 - accuracy: 0.9138\n",
            "Epoch 139/200\n",
            "2/2 [==============================] - 0s 11ms/step - loss: 0.2022 - accuracy: 0.9138\n",
            "Epoch 140/200\n",
            "2/2 [==============================] - 0s 13ms/step - loss: 0.2036 - accuracy: 0.9138\n",
            "Epoch 141/200\n",
            "2/2 [==============================] - 0s 13ms/step - loss: 0.2046 - accuracy: 0.8966\n",
            "Epoch 142/200\n",
            "2/2 [==============================] - 0s 12ms/step - loss: 0.1990 - accuracy: 0.9310\n",
            "Epoch 143/200\n",
            "2/2 [==============================] - 0s 14ms/step - loss: 0.1981 - accuracy: 0.9138\n",
            "Epoch 144/200\n",
            "2/2 [==============================] - 0s 13ms/step - loss: 0.1976 - accuracy: 0.9138\n",
            "Epoch 145/200\n",
            "2/2 [==============================] - 0s 20ms/step - loss: 0.1969 - accuracy: 0.9138\n",
            "Epoch 146/200\n",
            "2/2 [==============================] - 0s 17ms/step - loss: 0.1911 - accuracy: 0.9138\n",
            "Epoch 147/200\n",
            "2/2 [==============================] - 0s 21ms/step - loss: 0.1882 - accuracy: 0.9138\n",
            "Epoch 148/200\n",
            "2/2 [==============================] - 0s 19ms/step - loss: 0.1877 - accuracy: 0.9138\n",
            "Epoch 149/200\n",
            "2/2 [==============================] - 0s 17ms/step - loss: 0.1868 - accuracy: 0.8966\n",
            "Epoch 150/200\n",
            "2/2 [==============================] - 0s 19ms/step - loss: 0.1833 - accuracy: 0.9138\n",
            "Epoch 151/200\n",
            "2/2 [==============================] - 0s 21ms/step - loss: 0.1820 - accuracy: 0.9138\n",
            "Epoch 152/200\n",
            "2/2 [==============================] - 0s 20ms/step - loss: 0.1808 - accuracy: 0.9138\n",
            "Epoch 153/200\n",
            "2/2 [==============================] - 0s 20ms/step - loss: 0.1800 - accuracy: 0.9138\n",
            "Epoch 154/200\n",
            "2/2 [==============================] - 0s 17ms/step - loss: 0.1768 - accuracy: 0.9138\n",
            "Epoch 155/200\n",
            "2/2 [==============================] - 0s 14ms/step - loss: 0.1743 - accuracy: 0.9138\n",
            "Epoch 156/200\n",
            "2/2 [==============================] - 0s 19ms/step - loss: 0.1729 - accuracy: 0.9138\n",
            "Epoch 157/200\n",
            "2/2 [==============================] - 0s 17ms/step - loss: 0.1715 - accuracy: 0.9138\n",
            "Epoch 158/200\n",
            "2/2 [==============================] - 0s 17ms/step - loss: 0.1690 - accuracy: 0.9138\n",
            "Epoch 159/200\n",
            "2/2 [==============================] - 0s 16ms/step - loss: 0.1681 - accuracy: 0.9138\n",
            "Epoch 160/200\n",
            "2/2 [==============================] - 0s 18ms/step - loss: 0.1691 - accuracy: 0.8966\n",
            "Epoch 161/200\n",
            "2/2 [==============================] - 0s 15ms/step - loss: 0.1728 - accuracy: 0.9138\n",
            "Epoch 162/200\n",
            "2/2 [==============================] - 0s 12ms/step - loss: 0.1658 - accuracy: 0.8966\n",
            "Epoch 163/200\n",
            "2/2 [==============================] - 0s 11ms/step - loss: 0.1613 - accuracy: 0.9138\n",
            "Epoch 164/200\n",
            "2/2 [==============================] - 0s 15ms/step - loss: 0.1649 - accuracy: 0.8966\n",
            "Epoch 165/200\n",
            "2/2 [==============================] - 0s 16ms/step - loss: 0.1597 - accuracy: 0.9138\n",
            "Epoch 166/200\n",
            "2/2 [==============================] - 0s 15ms/step - loss: 0.1546 - accuracy: 0.8966\n",
            "Epoch 167/200\n",
            "2/2 [==============================] - 0s 15ms/step - loss: 0.1614 - accuracy: 0.9138\n",
            "Epoch 168/200\n",
            "2/2 [==============================] - 0s 20ms/step - loss: 0.1571 - accuracy: 0.9138\n",
            "Epoch 169/200\n",
            "2/2 [==============================] - 0s 20ms/step - loss: 0.1565 - accuracy: 0.9138\n",
            "Epoch 170/200\n",
            "2/2 [==============================] - 0s 16ms/step - loss: 0.1506 - accuracy: 0.9138\n",
            "Epoch 171/200\n",
            "2/2 [==============================] - 0s 16ms/step - loss: 0.1572 - accuracy: 0.8966\n",
            "Epoch 172/200\n",
            "2/2 [==============================] - 0s 16ms/step - loss: 0.1470 - accuracy: 0.9138\n",
            "Epoch 173/200\n",
            "2/2 [==============================] - 0s 16ms/step - loss: 0.1476 - accuracy: 0.8966\n",
            "Epoch 174/200\n",
            "2/2 [==============================] - 0s 13ms/step - loss: 0.1452 - accuracy: 0.9138\n",
            "Epoch 175/200\n",
            "2/2 [==============================] - 0s 25ms/step - loss: 0.1489 - accuracy: 0.8966\n",
            "Epoch 176/200\n",
            "2/2 [==============================] - 0s 12ms/step - loss: 0.1395 - accuracy: 0.9138\n",
            "Epoch 177/200\n",
            "2/2 [==============================] - 0s 12ms/step - loss: 0.1405 - accuracy: 0.9138\n",
            "Epoch 178/200\n",
            "2/2 [==============================] - 0s 17ms/step - loss: 0.1443 - accuracy: 0.9310\n",
            "Epoch 179/200\n",
            "2/2 [==============================] - 0s 15ms/step - loss: 0.1457 - accuracy: 0.9310\n",
            "Epoch 180/200\n",
            "2/2 [==============================] - 0s 13ms/step - loss: 0.1355 - accuracy: 0.9138\n",
            "Epoch 181/200\n",
            "2/2 [==============================] - 0s 11ms/step - loss: 0.1379 - accuracy: 0.9310\n",
            "Epoch 182/200\n",
            "2/2 [==============================] - 0s 14ms/step - loss: 0.1340 - accuracy: 0.9483\n",
            "Epoch 183/200\n",
            "2/2 [==============================] - 0s 12ms/step - loss: 0.1415 - accuracy: 0.9483\n",
            "Epoch 184/200\n",
            "2/2 [==============================] - 0s 12ms/step - loss: 0.1359 - accuracy: 0.9483\n",
            "Epoch 185/200\n",
            "2/2 [==============================] - 0s 12ms/step - loss: 0.1310 - accuracy: 0.9483\n",
            "Epoch 186/200\n",
            "2/2 [==============================] - 0s 11ms/step - loss: 0.1303 - accuracy: 0.9483\n",
            "Epoch 187/200\n",
            "2/2 [==============================] - 0s 12ms/step - loss: 0.1277 - accuracy: 0.9483\n",
            "Epoch 188/200\n",
            "2/2 [==============================] - 0s 12ms/step - loss: 0.1262 - accuracy: 0.9483\n",
            "Epoch 189/200\n",
            "2/2 [==============================] - 0s 12ms/step - loss: 0.1245 - accuracy: 0.9483\n",
            "Epoch 190/200\n",
            "2/2 [==============================] - 0s 12ms/step - loss: 0.1248 - accuracy: 0.9483\n",
            "Epoch 191/200\n",
            "2/2 [==============================] - 0s 12ms/step - loss: 0.1231 - accuracy: 0.9483\n",
            "Epoch 192/200\n",
            "2/2 [==============================] - 0s 12ms/step - loss: 0.1223 - accuracy: 0.9310\n",
            "Epoch 193/200\n",
            "2/2 [==============================] - 0s 12ms/step - loss: 0.1317 - accuracy: 0.8966\n",
            "Epoch 194/200\n",
            "2/2 [==============================] - 0s 13ms/step - loss: 0.1265 - accuracy: 0.9310\n",
            "Epoch 195/200\n",
            "2/2 [==============================] - 0s 11ms/step - loss: 0.1223 - accuracy: 0.9483\n",
            "Epoch 196/200\n",
            "2/2 [==============================] - 0s 15ms/step - loss: 0.1281 - accuracy: 0.9310\n",
            "Epoch 197/200\n",
            "2/2 [==============================] - 0s 13ms/step - loss: 0.1174 - accuracy: 0.9483\n",
            "Epoch 198/200\n",
            "2/2 [==============================] - 0s 12ms/step - loss: 0.1163 - accuracy: 0.9483\n",
            "Epoch 199/200\n",
            "2/2 [==============================] - 0s 12ms/step - loss: 0.1157 - accuracy: 0.9655\n",
            "Epoch 200/200\n",
            "2/2 [==============================] - 0s 12ms/step - loss: 0.1149 - accuracy: 0.9483\n"
          ]
        }
      ]
    },
    {
      "cell_type": "code",
      "metadata": {
        "colab": {
          "base_uri": "https://localhost:8080/",
          "height": 472
        },
        "id": "SydNvm-jkMgu",
        "outputId": "37582ff8-f02e-47e3-e15c-b7f9c374353d"
      },
      "source": [
        "# summarize history for accuracy\n",
        "plt.plot(history.history['accuracy'])\n",
        "plt.title('model accuracy')\n",
        "plt.ylabel('accuracy')\n",
        "plt.xlabel('epoch')\n",
        "plt.legend(['train', 'test'], loc='upper left')\n",
        "plt.show()\n"
      ],
      "execution_count": null,
      "outputs": [
        {
          "output_type": "display_data",
          "data": {
            "text/plain": [
              "<Figure size 640x480 with 1 Axes>"
            ],
            "image/png": "[encoded data removed]"
          },
          "metadata": {}
        }
      ]
    },
    {
      "cell_type": "code",
      "metadata": {
        "id": "wF04_7C_kTlo"
      },
      "source": [],
      "execution_count": null,
      "outputs": []
    }
  ]
}