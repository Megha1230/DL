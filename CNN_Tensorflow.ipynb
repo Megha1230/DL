{
  "nbformat": 4,
  "nbformat_minor": 0,
  "metadata": {
    "colab": {
      "provenance": [],
      "authorship_tag": "ABX9TyM6zHaDjhSf1GoVKvTmzhmh",
      "include_colab_link": true
    },
    "kernelspec": {
      "name": "python3",
      "display_name": "Python 3"
    },
    "language_info": {
      "name": "python"
    }
  },
  "cells": [
    {
      "cell_type": "markdown",
      "metadata": {
        "id": "view-in-github",
        "colab_type": "text"
      },
      "source": [
        "<a href=\"https://colab.research.google.com/github/Megha1230/DL/blob/main/CNN_Tensorflow.ipynb\" target=\"_parent\"><img src=\"https://colab.research.google.com/assets/colab-badge.svg\" alt=\"Open In Colab\"/></a>"
      ]
    },
    {
      "cell_type": "code",
      "execution_count": null,
      "metadata": {
        "id": "3P2gsEyX6qUV"
      },
      "outputs": [],
      "source": [
        "import tensorflow as tf\n",
        "from keras import layers,models\n",
        "from keras.datasets import fashion_mnist\n",
        "from keras.utils import to_categorical"
      ]
    },
    {
      "cell_type": "code",
      "source": [
        "(train_images, train_labels), (test_images, test_labels) = fashion_mnist.load_data()"
      ],
      "metadata": {
        "id": "A5AJZUdU7D9F"
      },
      "execution_count": null,
      "outputs": []
    },
    {
      "cell_type": "code",
      "source": [
        "train_images, test_images = train_images / 255.0, test_images / 255.0"
      ],
      "metadata": {
        "id": "1wknAmZO7gdO"
      },
      "execution_count": null,
      "outputs": []
    },
    {
      "cell_type": "code",
      "source": [
        "train_images = train_images.reshape((60000, 28, 28, 1))\n",
        "test_images = test_images.reshape((10000, 28, 28, 1))"
      ],
      "metadata": {
        "id": "Y1Wtdosz7_SB"
      },
      "execution_count": null,
      "outputs": []
    },
    {
      "cell_type": "code",
      "source": [
        "train_labels = to_categorical(train_labels)\n",
        "test_labels = to_categorical(test_labels)"
      ],
      "metadata": {
        "id": "wMBOKuu78zrt"
      },
      "execution_count": null,
      "outputs": []
    },
    {
      "cell_type": "code",
      "source": [
        "# Build the CNN model\n",
        "model = models.Sequential()\n",
        "\n",
        "# Convolutional layers\n",
        "model.add(layers.Conv2D(32, (3, 3), activation='relu', input_shape=(28, 28, 1)))\n",
        "model.add(layers.MaxPooling2D((2, 2)))\n",
        "model.add(layers.Conv2D(64, (3, 3), activation='relu'))\n",
        "model.add(layers.MaxPooling2D((2, 2)))\n",
        "model.add(layers.Conv2D(64, (3, 3), activation='relu'))"
      ],
      "metadata": {
        "id": "klcNQcR-9J6v"
      },
      "execution_count": null,
      "outputs": []
    },
    {
      "cell_type": "code",
      "source": [
        "# Dense (fully connected) layers\n",
        "model.add(layers.Flatten())\n",
        "model.add(layers.Dense(64, activation='relu'))\n",
        "model.add(layers.Dense(10, activation='softmax'))  # 10 classes for Fashion MNIST"
      ],
      "metadata": {
        "id": "fXTxvi8z9PCq"
      },
      "execution_count": null,
      "outputs": []
    },
    {
      "cell_type": "code",
      "source": [
        "model.compile(optimizer='adam',\n",
        "              loss='categorical_crossentropy',\n",
        "              metrics=['accuracy'])"
      ],
      "metadata": {
        "id": "wmN-WGa39UV4"
      },
      "execution_count": null,
      "outputs": []
    },
    {
      "cell_type": "code",
      "source": [
        "# Train the model\n",
        "model.fit(train_images, train_labels, epochs=10, batch_size=64, validation_split=0.2)\n",
        "\n",
        "# Evaluate the model on the test set\n",
        "test_loss, test_acc = model.evaluate(test_images, test_labels)\n",
        "print(f'Test accuracy: {test_acc}')"
      ],
      "metadata": {
        "colab": {
          "base_uri": "https://localhost:8080/"
        },
        "id": "nJk3zs_99gNr",
        "outputId": "bfeca2ef-c196-42af-d875-fefca06c9f82"
      },
      "execution_count": null,
      "outputs": [
        {
          "output_type": "stream",
          "name": "stdout",
          "text": [
            "Epoch 1/10\n",
            "750/750 [==============================] - 48s 63ms/step - loss: 0.5696 - accuracy: 0.7922 - val_loss: 0.4039 - val_accuracy: 0.8537\n",
            "Epoch 2/10\n",
            "750/750 [==============================] - 42s 56ms/step - loss: 0.3543 - accuracy: 0.8724 - val_loss: 0.3603 - val_accuracy: 0.8702\n",
            "Epoch 3/10\n",
            "750/750 [==============================] - 41s 55ms/step - loss: 0.3048 - accuracy: 0.8887 - val_loss: 0.3144 - val_accuracy: 0.8832\n",
            "Epoch 4/10\n",
            "750/750 [==============================] - 41s 55ms/step - loss: 0.2693 - accuracy: 0.9031 - val_loss: 0.2926 - val_accuracy: 0.8952\n",
            "Epoch 5/10\n",
            "750/750 [==============================] - 42s 56ms/step - loss: 0.2447 - accuracy: 0.9101 - val_loss: 0.2753 - val_accuracy: 0.8994\n",
            "Epoch 6/10\n",
            "750/750 [==============================] - 41s 55ms/step - loss: 0.2251 - accuracy: 0.9173 - val_loss: 0.2726 - val_accuracy: 0.9024\n",
            "Epoch 7/10\n",
            "750/750 [==============================] - 41s 55ms/step - loss: 0.2056 - accuracy: 0.9251 - val_loss: 0.2600 - val_accuracy: 0.9087\n",
            "Epoch 8/10\n",
            "750/750 [==============================] - 41s 55ms/step - loss: 0.1897 - accuracy: 0.9303 - val_loss: 0.2749 - val_accuracy: 0.9048\n",
            "Epoch 9/10\n",
            "750/750 [==============================] - 41s 55ms/step - loss: 0.1722 - accuracy: 0.9366 - val_loss: 0.2800 - val_accuracy: 0.9038\n",
            "Epoch 10/10\n",
            "750/750 [==============================] - 41s 55ms/step - loss: 0.1586 - accuracy: 0.9417 - val_loss: 0.2669 - val_accuracy: 0.9098\n",
            "313/313 [==============================] - 2s 8ms/step - loss: 0.2732 - accuracy: 0.9034\n",
            "Test accuracy: 0.9034000039100647\n"
          ]
        }
      ]
    }
  ]
}